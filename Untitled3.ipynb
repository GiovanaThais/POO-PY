{
  "nbformat": 4,
  "nbformat_minor": 0,
  "metadata": {
    "colab": {
      "name": "Untitled3.ipynb",
      "provenance": [],
      "authorship_tag": "ABX9TyM8XAQ4IuVIdHajC8SgF6Qe",
      "include_colab_link": true
    },
    "kernelspec": {
      "name": "python3",
      "display_name": "Python 3"
    }
  },
  "cells": [
    {
      "cell_type": "markdown",
      "metadata": {
        "id": "view-in-github",
        "colab_type": "text"
      },
      "source": [
        "<a href=\"https://colab.research.google.com/github/GiovanaThais/POO-PY/blob/main/Untitled3.ipynb\" target=\"_parent\"><img src=\"https://colab.research.google.com/assets/colab-badge.svg\" alt=\"Open In Colab\"/></a>"
      ]
    },
    {
      "cell_type": "code",
      "metadata": {
        "colab": {
          "base_uri": "https://localhost:8080/"
        },
        "id": "jsYmpDjNGMnD",
        "outputId": "8ddde2eb-51f4-4ab3-b6b5-c14b4291d087"
      },
      "source": [
        "#tuplas com enummerate\n",
        "precos = {'tablet':2000,'notebook':3000,'iphone':5000}\n",
        "print(precos) \n",
        "min_preco = min(zip(precos.values(),precos.keys()))\n",
        "print(min_preco) #menor valor da lista e ao q ele esta ligado \n",
        "max_preco = max(zip(precos.values(),precos.keys()))\n",
        "print(max_preco) #maior valor da lista e ao q ele esta ligado\n",
        "min(precos.values()) #retorna apenas o menor valor da lista"
      ],
      "execution_count": 5,
      "outputs": [
        {
          "output_type": "stream",
          "text": [
            "{'tablet': 2000, 'notebook': 3000, 'iphone': 5000}\n",
            "(2000, 'tablet')\n",
            "(5000, 'iphone')\n"
          ],
          "name": "stdout"
        },
        {
          "output_type": "execute_result",
          "data": {
            "text/plain": [
              "2000"
            ]
          },
          "metadata": {
            "tags": []
          },
          "execution_count": 5
        }
      ]
    },
    {
      "cell_type": "code",
      "metadata": {
        "colab": {
          "base_uri": "https://localhost:8080/"
        },
        "id": "70Kn0gJCQKvb",
        "outputId": "a41232f6-dfb5-4dff-f83b-5eff3ae4a1d8"
      },
      "source": [
        "from collections import Counter\n",
        "palavras = ['voz','vespa','noite','passaro','voz','vespa']\n",
        "palavras_cont = Counter(palavras)\n",
        "#verificar palavras mais comuns \n",
        "palavras_cont.most_common(2)\n"
      ],
      "execution_count": 6,
      "outputs": [
        {
          "output_type": "execute_result",
          "data": {
            "text/plain": [
              "[('voz', 2), ('vespa', 2)]"
            ]
          },
          "metadata": {
            "tags": []
          },
          "execution_count": 6
        }
      ]
    },
    {
      "cell_type": "code",
      "metadata": {
        "colab": {
          "base_uri": "https://localhost:8080/"
        },
        "id": "pqCxIblxRFdg",
        "outputId": "dd8c026f-895b-4514-ff7c-8570c7f226ef"
      },
      "source": [
        "#ordenando um dicionario \n",
        "from operator import itemgetter\n",
        "from itertools import groupby #para fazer agrupamentos\n",
        "d = [{'nome':'joao','idade':22,'data':'21/08/98'},{'nome':'maria','idade':20,'data':'21/08/98'},{'nome':'mary','idade':24,'data':'21/10/96'}]\n",
        "d_por_nome= sorted(d,key=itemgetter('nome'))\n",
        "d_por_idade = sorted(d,key = itemgetter('idade'))\n",
        "d_por_idade\n",
        "min(d,key=itemgetter('idade')) #para saber a menor idade\n",
        "# faz a iteração\n",
        "for data, items in groupby(d, key=itemgetter('data')):\n",
        "\tprint(data)\n",
        "\tfor i in items:\n",
        "\t\tprint(' ', i)\n",
        "#criando um novo dicionario para extrair um subconjunto de um conjunto \n",
        "#d2 = {key: value for key ,value in d.datas() if value>=22} #dictionare comprehenson\n"
      ],
      "execution_count": 12,
      "outputs": [
        {
          "output_type": "stream",
          "text": [
            "21/08/98\n",
            "  {'nome': 'joao', 'idade': 22, 'data': '21/08/98'}\n",
            "  {'nome': 'maria', 'idade': 20, 'data': '21/08/98'}\n",
            "21/10/96\n",
            "  {'nome': 'mary', 'idade': 24, 'data': '21/10/96'}\n"
          ],
          "name": "stdout"
        }
      ]
    },
    {
      "cell_type": "code",
      "metadata": {
        "id": "6hrOfGCzkRjt"
      },
      "source": [
        " "
      ],
      "execution_count": null,
      "outputs": []
    }
  ]
}