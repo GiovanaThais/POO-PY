{
  "nbformat": 4,
  "nbformat_minor": 0,
  "metadata": {
    "colab": {
      "name": "num_perfeito.ipynb",
      "provenance": [],
      "collapsed_sections": [],
      "authorship_tag": "ABX9TyNgS5ojDBgksbQTuB5mAhwJ",
      "include_colab_link": true
    },
    "kernelspec": {
      "name": "python3",
      "display_name": "Python 3"
    }
  },
  "cells": [
    {
      "cell_type": "markdown",
      "metadata": {
        "id": "view-in-github",
        "colab_type": "text"
      },
      "source": [
        "<a href=\"https://colab.research.google.com/github/GiovanaThais/POO-PY/blob/main/num_perfeito.ipynb\" target=\"_parent\"><img src=\"https://colab.research.google.com/assets/colab-badge.svg\" alt=\"Open In Colab\"/></a>"
      ]
    },
    {
      "cell_type": "code",
      "metadata": {
        "id": "M0E2MfU2lWti"
      },
      "source": [
        "def num_perfeito(num):\n",
        "  num = 6\n",
        "  soma = 0 \n",
        "  for divisor in range(1,n):\n",
        "    if num % divisor == 0:\n",
        "        soma += divisor \n",
        "  if num == soma: \n",
        "      print(\"numero perfeito\")\n",
        "  else:\n",
        "    print('não é numero perfeito')"
      ],
      "execution_count": null,
      "outputs": []
    },
    {
      "cell_type": "code",
      "metadata": {
        "id": "cFx_NbBUr272"
      },
      "source": [
        "def tupla_par(tupla):\n",
        "    '''\n",
        "    tupla: uma tupla\n",
        "    \n",
        "    retorna: nova tupla formada pelos elementos que possuem índices pares\n",
        "    '''\n",
        "    cont = 0\n",
        "    lista_itens = []\n",
        "    \n",
        "    while cont < len(tupla):\n",
        "        if cont % 2 == 0:\n",
        "            lista_itens.append(tupla[cont])\n",
        "        cont += 1\n",
        "    \n",
        "    tupla_retorno = tuple(lista_itens)\n",
        "    \n",
        "    return tupla_retorno"
      ],
      "execution_count": null,
      "outputs": []
    },
    {
      "cell_type": "code",
      "metadata": {
        "id": "srVHk34C6QlW"
      },
      "source": [
        ""
      ],
      "execution_count": null,
      "outputs": []
    },
    {
      "cell_type": "code",
      "metadata": {
        "colab": {
          "base_uri": "https://localhost:8080/"
        },
        "id": "VTO0kCjWt5hR",
        "outputId": "95e52a45-aa67-4650-e0e8-e2de4e9d7a4b"
      },
      "source": [
        "lista = []\n",
        "lista.append(10)\n",
        "print(lista)\n",
        "len(lista)\n"
      ],
      "execution_count": null,
      "outputs": [
        {
          "output_type": "stream",
          "text": [
            "[10]\n"
          ],
          "name": "stdout"
        },
        {
          "output_type": "execute_result",
          "data": {
            "text/plain": [
              "1"
            ]
          },
          "metadata": {
            "tags": []
          },
          "execution_count": 12
        }
      ]
    }
  ]
}