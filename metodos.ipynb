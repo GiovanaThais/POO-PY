{
  "nbformat": 4,
  "nbformat_minor": 0,
  "metadata": {
    "colab": {
      "name": "metodos.ipynb",
      "provenance": [],
      "authorship_tag": "ABX9TyP+mAEZD9JJTV1jiZKmoh8J",
      "include_colab_link": true
    },
    "kernelspec": {
      "name": "python3",
      "display_name": "Python 3"
    }
  },
  "cells": [
    {
      "cell_type": "markdown",
      "metadata": {
        "id": "view-in-github",
        "colab_type": "text"
      },
      "source": [
        "<a href=\"https://colab.research.google.com/github/GiovanaThais/POO-PY/blob/main/metodos.ipynb\" target=\"_parent\"><img src=\"https://colab.research.google.com/assets/colab-badge.svg\" alt=\"Open In Colab\"/></a>"
      ]
    },
    {
      "cell_type": "code",
      "metadata": {
        "colab": {
          "base_uri": "https://localhost:8080/"
        },
        "id": "FnI57vX46tas",
        "outputId": "397d4592-9f14-402e-f65a-37fcb4c3ba94"
      },
      "source": [
        "class Ponto:\n",
        "\n",
        "\tdef __init__(self, x = 0, y = 0):\n",
        "\t\tself.x, self.y = x, y\n",
        "\n",
        "\tdef resetar(self):\n",
        "\t\tself.x, self.y = 0, 0\n",
        "\n",
        "\tdef mover(self, x, y):\n",
        "\t\tself.x, self.y = x, y\n",
        "\n",
        "\n",
        "p = Ponto()\n",
        "p.resetar()\n",
        "#Ponto.resetar(p)\n",
        "print(p.x, p.y)\n",
        "p.mover(10, 20)\n",
        "print(p.x, p.y)"
      ],
      "execution_count": null,
      "outputs": [
        {
          "output_type": "stream",
          "text": [
            "0 0\n",
            "10 20\n"
          ],
          "name": "stdout"
        }
      ]
    },
    {
      "cell_type": "code",
      "metadata": {
        "id": "6ab1k6QkwYV1"
      },
      "source": [
        "class Quadrado:\n",
        "  def __int__(self,lado):\n",
        "    self.lado = lado\n",
        "\n",
        "  def perimetro(self):\n",
        "    return 4*self.lado\n",
        "\n",
        "  def area(self):\n",
        "    return self.lado*self.lado\n",
        "\n",
        "class Retangulo:\n",
        "  def __init__(self,base,altura):\n",
        "    self.base = base \n",
        "    self.altura = altura\n",
        "  def area(self):\n",
        "    return self.base *self.altura\n",
        "\n",
        "  "
      ],
      "execution_count": null,
      "outputs": []
    },
    {
      "cell_type": "code",
      "metadata": {
        "colab": {
          "base_uri": "https://localhost:8080/",
          "height": 350
        },
        "id": "tBSN0DouDOv7",
        "outputId": "6a06774e-f8f2-430e-fac5-d220f66c3363"
      },
      "source": [
        "import heapq\n",
        "class FilaPrioridade:\n",
        "\n",
        "  def __init__(self):\n",
        "    self.fila= []\n",
        "    self.indice = 0\n",
        "\n",
        "  def inserir(self,item,prioridade):\n",
        "    heapq.heappush(self.fila,(-prioridade,self.indice))\n",
        "    self.indice+=1\n",
        "\n",
        "  def remover(self):\n",
        "    return heapq.heappop(self.fila)[-1]\n",
        "  \n",
        "class Item:\n",
        "  def __init__(self,nome):\n",
        "    self.nome = nome \n",
        "  def __repr__(self): \n",
        "    return self.nome\n",
        "\n",
        "  fila = FilaPrioridade()\n",
        "  fila.inserir(Item('Marcos'),28)\n",
        "  fila.inserir(Item('joao'),30)\n",
        "  fila.inserir(Item('Maria'),18)\n",
        "\n",
        "  print(fila.remover())"
      ],
      "execution_count": null,
      "outputs": [
        {
          "output_type": "error",
          "ename": "NameError",
          "evalue": "ignored",
          "traceback": [
            "\u001b[0;31m---------------------------------------------------------------------------\u001b[0m",
            "\u001b[0;31mNameError\u001b[0m                                 Traceback (most recent call last)",
            "\u001b[0;32m<ipython-input-11-2464bea580a8>\u001b[0m in \u001b[0;36m<module>\u001b[0;34m()\u001b[0m\n\u001b[1;32m     13\u001b[0m     \u001b[0;32mreturn\u001b[0m \u001b[0mheapq\u001b[0m\u001b[0;34m.\u001b[0m\u001b[0mheappop\u001b[0m\u001b[0;34m(\u001b[0m\u001b[0mself\u001b[0m\u001b[0;34m.\u001b[0m\u001b[0mfila\u001b[0m\u001b[0;34m)\u001b[0m\u001b[0;34m[\u001b[0m\u001b[0;34m-\u001b[0m\u001b[0;36m1\u001b[0m\u001b[0;34m]\u001b[0m\u001b[0;34m\u001b[0m\u001b[0;34m\u001b[0m\u001b[0m\n\u001b[1;32m     14\u001b[0m \u001b[0;34m\u001b[0m\u001b[0m\n\u001b[0;32m---> 15\u001b[0;31m \u001b[0;32mclass\u001b[0m \u001b[0mItem\u001b[0m\u001b[0;34m(\u001b[0m\u001b[0;34m)\u001b[0m\u001b[0;34m:\u001b[0m\u001b[0;34m\u001b[0m\u001b[0;34m\u001b[0m\u001b[0m\n\u001b[0m\u001b[1;32m     16\u001b[0m   \u001b[0;32mdef\u001b[0m \u001b[0m__init__\u001b[0m\u001b[0;34m(\u001b[0m\u001b[0mself\u001b[0m\u001b[0;34m,\u001b[0m\u001b[0mnome\u001b[0m\u001b[0;34m)\u001b[0m\u001b[0;34m:\u001b[0m\u001b[0;34m\u001b[0m\u001b[0;34m\u001b[0m\u001b[0m\n\u001b[1;32m     17\u001b[0m     \u001b[0mself\u001b[0m\u001b[0;34m.\u001b[0m\u001b[0mnome\u001b[0m \u001b[0;34m=\u001b[0m \u001b[0mnome\u001b[0m\u001b[0;34m\u001b[0m\u001b[0;34m\u001b[0m\u001b[0m\n",
            "\u001b[0;32m<ipython-input-11-2464bea580a8>\u001b[0m in \u001b[0;36mItem\u001b[0;34m()\u001b[0m\n\u001b[1;32m     20\u001b[0m \u001b[0;34m\u001b[0m\u001b[0m\n\u001b[1;32m     21\u001b[0m   \u001b[0mfila\u001b[0m \u001b[0;34m=\u001b[0m \u001b[0mFilaPrioridade\u001b[0m\u001b[0;34m(\u001b[0m\u001b[0;34m)\u001b[0m\u001b[0;34m\u001b[0m\u001b[0;34m\u001b[0m\u001b[0m\n\u001b[0;32m---> 22\u001b[0;31m   \u001b[0mfila\u001b[0m\u001b[0;34m.\u001b[0m\u001b[0minserir\u001b[0m\u001b[0;34m(\u001b[0m\u001b[0mItem\u001b[0m\u001b[0;34m(\u001b[0m\u001b[0;34m'Marcos'\u001b[0m\u001b[0;34m)\u001b[0m\u001b[0;34m,\u001b[0m\u001b[0;36m28\u001b[0m\u001b[0;34m)\u001b[0m\u001b[0;34m\u001b[0m\u001b[0;34m\u001b[0m\u001b[0m\n\u001b[0m\u001b[1;32m     23\u001b[0m   \u001b[0mfila\u001b[0m\u001b[0;34m.\u001b[0m\u001b[0minserir\u001b[0m\u001b[0;34m(\u001b[0m\u001b[0mItem\u001b[0m\u001b[0;34m(\u001b[0m\u001b[0;34m'joao'\u001b[0m\u001b[0;34m)\u001b[0m\u001b[0;34m,\u001b[0m\u001b[0;36m30\u001b[0m\u001b[0;34m)\u001b[0m\u001b[0;34m\u001b[0m\u001b[0;34m\u001b[0m\u001b[0m\n\u001b[1;32m     24\u001b[0m   \u001b[0mfila\u001b[0m\u001b[0;34m.\u001b[0m\u001b[0minserir\u001b[0m\u001b[0;34m(\u001b[0m\u001b[0mItem\u001b[0m\u001b[0;34m(\u001b[0m\u001b[0;34m'Maria'\u001b[0m\u001b[0;34m)\u001b[0m\u001b[0;34m,\u001b[0m\u001b[0;36m18\u001b[0m\u001b[0;34m)\u001b[0m\u001b[0;34m\u001b[0m\u001b[0;34m\u001b[0m\u001b[0m\n",
            "\u001b[0;31mNameError\u001b[0m: name 'Item' is not defined"
          ]
        }
      ]
    },
    {
      "cell_type": "code",
      "metadata": {
        "id": "GDgvos-qO-j5"
      },
      "source": [
        "class Pessoa:\n",
        "  def __int__(self,idade,nome):\n",
        "    self.idade = idade\n",
        "    self.nome = nome\n",
        "  def get_bonificacao(self):\n",
        "    return self.idade*100\n",
        "  \n",
        "class PessoaFisica(Pessoa):\n",
        "  def __init__(self,cpf,nome,idade):\n",
        "    Pessoa.__init__(self,nome,idade)\n",
        "    self.cpf = cpf\n",
        "  def get_bonificacao(self):\n",
        "    return super().get_bonificacao+000\n",
        "\n",
        "class Funcionario(Pessoa):\n",
        "  def __init__(self,nome,idade,salario):\n",
        "    super().__init__(nome,idade)\n",
        "    self.salario = salario #atributo exclusivo\n",
        "\n"
      ],
      "execution_count": null,
      "outputs": []
    },
    {
      "cell_type": "code",
      "metadata": {
        "colab": {
          "base_uri": "https://localhost:8080/",
          "height": 350
        },
        "id": "RwwISy36yHSj",
        "outputId": "c3d123f7-ce68-4228-f692-f054cff9549c"
      },
      "source": [
        "from quadrado import Quadrado\n",
        "q = quadrado.Quadrado(4)\n",
        "print(q.perimetro())\n",
        "print(q.area())\n"
      ],
      "execution_count": null,
      "outputs": [
        {
          "output_type": "error",
          "ename": "ModuleNotFoundError",
          "evalue": "ignored",
          "traceback": [
            "\u001b[0;31m---------------------------------------------------------------------------\u001b[0m",
            "\u001b[0;31mModuleNotFoundError\u001b[0m                       Traceback (most recent call last)",
            "\u001b[0;32m<ipython-input-9-982e7043044f>\u001b[0m in \u001b[0;36m<module>\u001b[0;34m()\u001b[0m\n\u001b[0;32m----> 1\u001b[0;31m \u001b[0;32mfrom\u001b[0m \u001b[0mquadrado\u001b[0m \u001b[0;32mimport\u001b[0m \u001b[0mQuadrado\u001b[0m\u001b[0;34m\u001b[0m\u001b[0;34m\u001b[0m\u001b[0m\n\u001b[0m\u001b[1;32m      2\u001b[0m \u001b[0mq\u001b[0m \u001b[0;34m=\u001b[0m \u001b[0mquadrado\u001b[0m\u001b[0;34m.\u001b[0m\u001b[0mQuadrado\u001b[0m\u001b[0;34m(\u001b[0m\u001b[0;36m4\u001b[0m\u001b[0;34m)\u001b[0m\u001b[0;34m\u001b[0m\u001b[0;34m\u001b[0m\u001b[0m\n\u001b[1;32m      3\u001b[0m \u001b[0mprint\u001b[0m\u001b[0;34m(\u001b[0m\u001b[0mq\u001b[0m\u001b[0;34m.\u001b[0m\u001b[0mperimetro\u001b[0m\u001b[0;34m(\u001b[0m\u001b[0;34m)\u001b[0m\u001b[0;34m)\u001b[0m\u001b[0;34m\u001b[0m\u001b[0;34m\u001b[0m\u001b[0m\n\u001b[1;32m      4\u001b[0m \u001b[0mprint\u001b[0m\u001b[0;34m(\u001b[0m\u001b[0mq\u001b[0m\u001b[0;34m.\u001b[0m\u001b[0marea\u001b[0m\u001b[0;34m(\u001b[0m\u001b[0;34m)\u001b[0m\u001b[0;34m)\u001b[0m\u001b[0;34m\u001b[0m\u001b[0;34m\u001b[0m\u001b[0m\n",
            "\u001b[0;31mModuleNotFoundError\u001b[0m: No module named 'quadrado'",
            "",
            "\u001b[0;31m---------------------------------------------------------------------------\u001b[0;32m\nNOTE: If your import is failing due to a missing package, you can\nmanually install dependencies using either !pip or !apt.\n\nTo view examples of installing some common dependencies, click the\n\"Open Examples\" button below.\n\u001b[0;31m---------------------------------------------------------------------------\u001b[0m\n"
          ]
        }
      ]
    }
  ]
}