{
  "nbformat": 4,
  "nbformat_minor": 0,
  "metadata": {
    "colab": {
      "name": "desingPatters2.ipynb",
      "provenance": [],
      "authorship_tag": "ABX9TyO63+w5bRRUn+9jYmg8YfWs",
      "include_colab_link": true
    },
    "kernelspec": {
      "name": "python3",
      "display_name": "Python 3"
    }
  },
  "cells": [
    {
      "cell_type": "markdown",
      "metadata": {
        "id": "view-in-github",
        "colab_type": "text"
      },
      "source": [
        "<a href=\"https://colab.research.google.com/github/GiovanaThais/POO-PY/blob/main/desingPatters2.ipynb\" target=\"_parent\"><img src=\"https://colab.research.google.com/assets/colab-badge.svg\" alt=\"Open In Colab\"/></a>"
      ]
    },
    {
      "cell_type": "code",
      "metadata": {
        "id": "1q3stqAw9PTh"
      },
      "source": [
        "import sqlite3\n",
        "db= sqlite3.connect('database.db')\n",
        "c= db.cursor() #criando cursor\n",
        "c.execute('create table portifolio(symbol text,shares integer,price real)') #executar, criando tabela (nome,tipo,preço)\n",
        "db.commit()\n",
        "stocks=[('iphone',100,2000),('macbook',200,4000)]\n",
        "stocks #guardar no estoque\n",
        "c.executemany('insert into portifolio values(?,?,?)')#inserindo 3 valores dentro da tabela \n",
        "db.commit()\n",
        "for row in db.execute('select * from portifolio'): #varrer todas as linhas dentro do portifolio \n",
        "    print(row) #mostrar linhas \n"
      ],
      "execution_count": null,
      "outputs": []
    },
    {
      "cell_type": "code",
      "metadata": {
        "colab": {
          "base_uri": "https://localhost:8080/"
        },
        "id": "X1fCbHSFCln9",
        "outputId": "cf41ee19-7811-4f9b-c31e-cccca46a806d"
      },
      "source": [
        "#Composição : forma de chamar funcionalidades basicas sem uso de herança\n",
        "class A(object):\n",
        "  def a1(self):\n",
        "    print('a1')\n",
        "class B (object):\n",
        "  def b(self):\n",
        "    print(\"b\")\n",
        "    A().a1()\n",
        "\n",
        "objB = B()\n",
        "objB.b()\n"
      ],
      "execution_count": 1,
      "outputs": [
        {
          "output_type": "stream",
          "text": [
            "b\n",
            "a1\n"
          ],
          "name": "stdout"
        }
      ]
    },
    {
      "cell_type": "code",
      "metadata": {
        "id": "o4J0B2GUe9ba"
      },
      "source": [
        "'''\n",
        "Padrão de projeto Singleton\n",
        "'''\n",
        "\n",
        "class Singleton(object):\n",
        "\tdef __new__(cls): #subcrever metodo new\n",
        "\t\tif not hasattr(cls, 'instance'): #verificar se existe 'instance' na cls.....hasattr é usado para saber se o objeto tem determinada propriedade\n",
        "\t\t\tcls.instance = super(Singleton, cls).__new__(cls)\n",
        "\t\treturn cls.instance\n",
        "\n",
        "s1 = Singleton() #s1 criado pelo new\n",
        "print(s1)\n",
        "s2 = Singleton()\n",
        "print(s2)"
      ],
      "execution_count": null,
      "outputs": []
    },
    {
      "cell_type": "code",
      "metadata": {
        "id": "zSb3Y2cbgmFw"
      },
      "source": [
        "class Singleton:\n",
        "\t__instance = None\n",
        "\tdef __init__(self):\n",
        "\t\tif not Singleton.__instance:\n",
        "\t\t\tprint('__init__ foi chamado')\n",
        "\t\telse:\n",
        "\t\t\tprint('instancia ja criada: ', self.obter_instancia())\n",
        "\n",
        "\t@classmethod\n",
        "\tdef obter_instancia(cls):\n",
        "\t\tif not cls.__instance:\n",
        "\t\t\tcls.__instance = Singleton()\n",
        "\t\treturn cls.__instance\n",
        "\n",
        "s = Singleton()\n",
        "print('Objeto criado: ', Singleton.obter_instancia())\n",
        "s2 = Singleton()"
      ],
      "execution_count": null,
      "outputs": []
    },
    {
      "cell_type": "code",
      "metadata": {
        "id": "m1FItUgYqfDD"
      },
      "source": [
        "class MinhaClasse:\n",
        "\t__estado_compartilhado = {'1':'2'}\n",
        "\tdef __init__(self):\n",
        "\t\tself.x = 1\n",
        "\t\tself.__dict__ = self.__estado_compartilhado\n",
        "\n",
        "b1 = MinhaClasse()\n",
        "b2 = MinhaClasse()\n",
        "b1.x = 5\n",
        "print('b1: ', b1)\n",
        "print('b2: ', b2)\n",
        "\n",
        "print(b1.__dict__)\n",
        "print(b2.__dict__)"
      ],
      "execution_count": null,
      "outputs": []
    },
    {
      "cell_type": "code",
      "metadata": {
        "id": "lrL_H2ENqgd8"
      },
      "source": [
        "class MetaSingleton(type):\n",
        "\t_instances = {}\n",
        "\tdef __call__(cls, *args, **kwargs):\n",
        "\t\tif cls not in cls._instances:\n",
        "\t\t\tcls._instances[cls] = super(MetaSingleton, cls).__call__(*args, **kwargs)\n",
        "\t\treturn cls._instances[cls]\n",
        "\n",
        "class Test(metaclass=MetaSingleton):\n",
        "\tpass\n",
        "\n",
        "t1 = Test()\n",
        "t2 = Test()\n",
        "print(t1, t2)"
      ],
      "execution_count": null,
      "outputs": []
    },
    {
      "cell_type": "code",
      "metadata": {
        "id": "PW6URQo4qjvT"
      },
      "source": [
        "class MetaClasse(type):\n",
        "\tdef __call__(cls, *args, **kargs):\n",
        "\t\tprint('Minha metaclasse', args)\n",
        "\t\treturn type.__call__(cls, *args, **kargs)\n",
        "\n",
        "\n",
        "class int(metaclass=MetaClasse):\n",
        "\tdef __init__(self, x, y):\n",
        "\t\tself.x = x\n",
        "\t\tself.y = y\n",
        "\n",
        "obj = int(4, 5)"
      ],
      "execution_count": null,
      "outputs": []
    },
    {
      "cell_type": "code",
      "metadata": {
        "id": "Y2kwGWXfquyn"
      },
      "source": [
        "from abc import ABCMeta, abstractmethod\n",
        "\n",
        "class Animal(metaclass = ABCMeta):\n",
        "\t@abstractmethod\n",
        "\tdef som(self):\n",
        "\t\tpass\n",
        "\n",
        "class Cachorro(Animal):\n",
        "\tdef som(self):\n",
        "\t\tprint('au au au')\n",
        "\n",
        "class Gato(Animal):\n",
        "\tdef som(self):\n",
        "\t\tprint('miau miau')\n",
        "\n",
        "class Fabrica(object):\n",
        "\tdef produzir_som(self, object_type):\n",
        "\t\treturn eval(object_type)().som()\n",
        "\n",
        "if __name__ == '__main__':\n",
        "\tf = Fabrica()\n",
        "\tf.produzir_som('Gato')"
      ],
      "execution_count": null,
      "outputs": []
    }
  ]
}