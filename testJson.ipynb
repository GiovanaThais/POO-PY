{
  "nbformat": 4,
  "nbformat_minor": 0,
  "metadata": {
    "colab": {
      "name": "testJson.ipynb",
      "provenance": [],
      "authorship_tag": "ABX9TyPh5mKsLu9fIOMVBdvRz0UY",
      "include_colab_link": true
    },
    "kernelspec": {
      "name": "python3",
      "display_name": "Python 3"
    }
  },
  "cells": [
    {
      "cell_type": "markdown",
      "metadata": {
        "id": "view-in-github",
        "colab_type": "text"
      },
      "source": [
        "<a href=\"https://colab.research.google.com/github/GiovanaThais/POO-PY/blob/main/testJson.ipynb\" target=\"_parent\"><img src=\"https://colab.research.google.com/assets/colab-badge.svg\" alt=\"Open In Colab\"/></a>"
      ]
    },
    {
      "cell_type": "code",
      "metadata": {
        "colab": {
          "base_uri": "https://localhost:8080/"
        },
        "id": "wMOCDIWnsPd9",
        "outputId": "1ba04457-c917-495c-aa5f-6b84fe1658b9"
      },
      "source": [
        "import json\n",
        "data ={\n",
        "    'nome': 'giovana',\n",
        "    'idade':20,\n",
        "    'peso':58,\n",
        "}\n",
        "json_str = json.dumps(data)\n",
        "print(json_str)\n",
        "print(type(json_str))\n",
        "data = json.loads(json_str)\n",
        "print(type(data))"
      ],
      "execution_count": 2,
      "outputs": [
        {
          "output_type": "stream",
          "text": [
            "{\"nome\": \"giovana\", \"idade\": 20, \"peso\": 58}\n",
            "<class 'str'>\n",
            "<class 'dict'>\n"
          ],
          "name": "stdout"
        }
      ]
    },
    {
      "cell_type": "code",
      "metadata": {
        "colab": {
          "base_uri": "https://localhost:8080/"
        },
        "id": "q2P6_hOk_8K5",
        "outputId": "4d15ceb0-351e-4690-e842-9e0c2e1c67b8"
      },
      "source": [
        "lista = [1,2,3,4]\n",
        "lista.append(5) #adiciona no final da lista\n",
        "print(lista)\n",
        "class MinhaLista(list):\n",
        "  def append(self,*args):\n",
        "    self.extend(args)\n",
        "\n",
        "l = MinhaLista()\n",
        "l.append(1)\n",
        "l.append(43,12,44,22,11)\n",
        "l"
      ],
      "execution_count": 6,
      "outputs": [
        {
          "output_type": "stream",
          "text": [
            "[1, 2, 3, 4, 5]\n"
          ],
          "name": "stdout"
        },
        {
          "output_type": "execute_result",
          "data": {
            "text/plain": [
              "[1, 43, 12, 44, 22, 11]"
            ]
          },
          "metadata": {
            "tags": []
          },
          "execution_count": 6
        }
      ]
    },
    {
      "cell_type": "code",
      "metadata": {
        "id": "Hj86X0tQEHLv"
      },
      "source": [
        "'''\n",
        "def funcao(*args):\n",
        "\tprint(args)\n",
        "'''\n",
        "\n",
        "def funcao(**kwargs):\n",
        "\tfor key, value in kwargs.items():\n",
        "\t\tprint(key,value)\n",
        "\n",
        "funcao(nome='marcos', idade=28, linguagem='python')"
      ],
      "execution_count": null,
      "outputs": []
    },
    {
      "cell_type": "code",
      "metadata": {
        "colab": {
          "base_uri": "https://localhost:8080/"
        },
        "id": "AnCjnj61FxmJ",
        "outputId": "00c29bd4-3cd4-4e41-cf02-2f7bcb664e32"
      },
      "source": [
        "for i in 'giovana':\n",
        "  print(i) #iterando\n",
        "\n",
        "#fibonacci\n",
        "class Fibonacci:\n",
        "\n",
        "\tdef __init__(self, max):\n",
        "\t\tself.max = max\n",
        "\n",
        "\tdef __iter__(self):\n",
        "\t\tself.x, self.y = 1, 1\n",
        "\t\treturn self\n",
        "\n",
        "\tdef __next__(self):\n",
        "\t\tfib = self.x\n",
        "\t\tif fib > self.max:\n",
        "\t\t\traise StopIteration\n",
        "\t\tself.x, self.y = self.y, self.x + self.y\n",
        "\t\treturn fib\n",
        "\n",
        "fib = Fibonacci(100)\n",
        "for i in fib:\n",
        "\tprint(i, end=' ')"
      ],
      "execution_count": 10,
      "outputs": [
        {
          "output_type": "stream",
          "text": [
            "g\n",
            "i\n",
            "o\n",
            "v\n",
            "a\n",
            "n\n",
            "a\n",
            "1 1 2 3 5 8 13 21 34 55 89 "
          ],
          "name": "stdout"
        }
      ]
    },
    {
      "cell_type": "code",
      "metadata": {
        "id": "yxhxxyIdQ7Ih"
      },
      "source": [
        "'''\n",
        "def modificar(funcao):\n",
        "\tdef subtrair(a, b):\n",
        "\t\treturn a - b\n",
        "\treturn subtrair\n",
        "\n",
        "@modificar\t\n",
        "def somar(a, b):\n",
        "\treturn a + b\n",
        "\n",
        "print(somar(2, 3))\n",
        "'''\n",
        "\n",
        "'''\n",
        "def modificar(funcao):\n",
        "\tdef somar_pares(a, b):\n",
        "\t\tif a % 2 == 0 or b % 2 == 0:\n",
        "\t\t\treturn a + b\n",
        "\t\treturn a - b\n",
        "\treturn somar_pares\n",
        "\n",
        "@modificar\t\n",
        "def somar(a, b):\n",
        "\treturn a + b\n",
        "\n",
        "print(somar(11, 1))\n",
        "'''\n",
        "\n",
        "def meu_decorador(funcao):\n",
        "\tdef imprime_algo():\n",
        "\t\tprint('eu nao sei somar')\n",
        "\treturn imprime_algo\n",
        "\n",
        "@meu_decorador\n",
        "def imprime():\n",
        "\tprint('eu sei somar')\n",
        "\n",
        "#imprime = meu_decorador(imprime)\n",
        "imprime()"
      ],
      "execution_count": null,
      "outputs": []
    },
    {
      "cell_type": "code",
      "metadata": {
        "id": "kzICKwkpMBBu"
      },
      "source": [
        "# Generators (geradores)\n",
        "# Fibonacci: 1, 1, 2, 3, 5, 8 ...\n",
        "\n",
        "def fib(max):\n",
        "\tx, y = 1, 1\n",
        "\twhile x < max:\n",
        "\t\tyield x\n",
        "\t\tx, y = y, x + y\n",
        "\n",
        "\n",
        "gen = fib(10)\n",
        "'''\n",
        "print(next(gen))\n",
        "print(next(gen))\n",
        "print(next(gen))\n",
        "print(next(gen))\n",
        "'''\n",
        "\n",
        "for i in gen:\n",
        "\tprint(i, end=' ')"
      ],
      "execution_count": null,
      "outputs": []
    }
  ]
}