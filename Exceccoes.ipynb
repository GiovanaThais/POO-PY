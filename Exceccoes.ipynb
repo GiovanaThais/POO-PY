{
  "nbformat": 4,
  "nbformat_minor": 0,
  "metadata": {
    "colab": {
      "name": "Exceccoes.ipynb",
      "provenance": [],
      "authorship_tag": "ABX9TyMZGWU1ggWR3fawlTB884Ab",
      "include_colab_link": true
    },
    "kernelspec": {
      "name": "python3",
      "display_name": "Python 3"
    }
  },
  "cells": [
    {
      "cell_type": "markdown",
      "metadata": {
        "id": "view-in-github",
        "colab_type": "text"
      },
      "source": [
        "<a href=\"https://colab.research.google.com/github/GiovanaThais/POO-PY/blob/main/Exceccoes.ipynb\" target=\"_parent\"><img src=\"https://colab.research.google.com/assets/colab-badge.svg\" alt=\"Open In Colab\"/></a>"
      ]
    },
    {
      "cell_type": "code",
      "metadata": {
        "colab": {
          "base_uri": "https://localhost:8080/",
          "height": 69
        },
        "id": "ldd6IkDqpRZk",
        "outputId": "56a4d00e-fd9b-49be-d435-adc54b95ce4f"
      },
      "source": [
        "def divisao(divisor):\n",
        "\n",
        "\ttry:\n",
        "\t\tif divisor == 13:\n",
        "\t\t\traise ValueError('13 nao eh legal')\n",
        "\t\t#return 10 / divisor\n",
        "\texcept ZeroDivisionError:\n",
        "\t\treturn 'Divisao por zero'\n",
        "\texcept TypeError:\n",
        "\t\treturn 'Entre um um valor numerico'\n",
        "\texcept ValueError:\n",
        "\t\tprint('Nao utilize o numero 13')\n",
        "\t\traise\n",
        "\telse:\n",
        "\t\tprint('Nao ocorreu nenhuma excecao')\n",
        "\tfinally:\n",
        "\t\tprint('isso sempre sera executado')\n",
        "\n",
        "\n",
        "divisao(15)\n"
      ],
      "execution_count": 2,
      "outputs": [
        {
          "output_type": "stream",
          "text": [
            "Nao ocorreu nenhuma excecao\n",
            "isso sempre sera executado\n"
          ],
          "name": "stdout"
        },
        {
          "output_type": "execute_result",
          "data": {
            "application/vnd.google.colaboratory.intrinsic+json": {
              "type": "string"
            },
            "text/plain": [
              "\"\\ntry:\\n\\traise ValueError('Este eh um argumento')\\nexcept ValueError as e:\\n\\tprint('Os argumentos da exececao foram', e.args)\\nfinally:\\n\\tprint('isso sempre sera executado')\\n\""
            ]
          },
          "metadata": {
            "tags": []
          },
          "execution_count": 2
        }
      ]
    },
    {
      "cell_type": "code",
      "metadata": {
        "colab": {
          "base_uri": "https://localhost:8080/"
        },
        "id": "6FuN2sVIq5_h",
        "outputId": "c93d5a50-c118-48ce-e3f3-be2eba7b9dca"
      },
      "source": [
        "try:\n",
        "\traise ValueError('Este eh um argumento')\n",
        "except ValueError as e:\n",
        "\tprint('Os argumentos da exececao foram', e.args)\n",
        "finally:\n",
        "\tprint('isso sempre sera executado')"
      ],
      "execution_count": 3,
      "outputs": [
        {
          "output_type": "stream",
          "text": [
            "Os argumentos da exececao foram ('Este eh um argumento',)\n",
            "isso sempre sera executado\n"
          ],
          "name": "stdout"
        }
      ]
    },
    {
      "cell_type": "code",
      "metadata": {
        "id": "MA8r75kzrbH1"
      },
      "source": [
        "# PEP8 - Guia de estilo para o código Python\n",
        "\n",
        "import os\n",
        "import sys\n",
        "\n",
        "r = minha_funcao(var_one, var_two,\n",
        "\t             var_three, var_four)\n",
        "\n",
        "my_list = [\n",
        "    1, 2, 3,\n",
        "    4, 5, 6,\n",
        "    ]\n",
        "\n",
        "result = (var1\n",
        "\t      + var2\n",
        "\t      + (var3 - var4)\n",
        "\t      - result_var1\n",
        "\t      - result_var4)\n",
        "\n",
        "#foo( x, y )\n",
        "foo(x, y)\n",
        "\n",
        "if x == 4: print(x)\n",
        "\n",
        "#calcular_media"
      ],
      "execution_count": null,
      "outputs": []
    },
    {
      "cell_type": "code",
      "metadata": {
        "colab": {
          "base_uri": "https://localhost:8080/"
        },
        "id": "TjBor4QLqH7T",
        "outputId": "68082620-b6d1-4904-df9e-cee8a716f4ee"
      },
      "source": [
        "def algo():\n",
        "\traise Exception('excecao')\n",
        "\tprint('depois do raise')\n",
        "\n",
        "def algo2():\n",
        "\ttry:\n",
        "\t\talgo()\n",
        "\texcept:\n",
        "\t\tprint('Eu peguei uma excecao')\n",
        "\t\tprint('executado apos a excecao')\n",
        "\n",
        "algo2()"
      ],
      "execution_count": 1,
      "outputs": [
        {
          "output_type": "stream",
          "text": [
            "Eu peguei uma excecao\n",
            "executado apos a excecao\n"
          ],
          "name": "stdout"
        }
      ]
    }
  ]
}