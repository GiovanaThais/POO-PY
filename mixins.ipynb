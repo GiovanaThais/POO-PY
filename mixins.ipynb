{
  "nbformat": 4,
  "nbformat_minor": 0,
  "metadata": {
    "colab": {
      "name": "mixins.ipynb",
      "provenance": [],
      "authorship_tag": "ABX9TyMrw09wg0kcB0F45U7xdHg9",
      "include_colab_link": true
    },
    "kernelspec": {
      "name": "python3",
      "display_name": "Python 3"
    }
  },
  "cells": [
    {
      "cell_type": "markdown",
      "metadata": {
        "id": "view-in-github",
        "colab_type": "text"
      },
      "source": [
        "<a href=\"https://colab.research.google.com/github/GiovanaThais/POO-PY/blob/main/mixins.ipynb\" target=\"_parent\"><img src=\"https://colab.research.google.com/assets/colab-badge.svg\" alt=\"Open In Colab\"/></a>"
      ]
    },
    {
      "cell_type": "code",
      "metadata": {
        "colab": {
          "base_uri": "https://localhost:8080/"
        },
        "id": "RTDHBO-pDj2v",
        "outputId": "401fe266-2f4e-47ff-884b-345bd638bbd2"
      },
      "source": [
        "import random \n",
        "lista= [1,2,3,4,5,6,7,8,9]\n",
        "random.choice(lista) #escolhe um num aleatorio da lista\n",
        "random.sample(lista,3) #escolhe 3 numeros aleatorios da lista\n",
        "random.shuffle(lista) #embaralhando lista\n",
        "lista"
      ],
      "execution_count": 3,
      "outputs": [
        {
          "output_type": "execute_result",
          "data": {
            "text/plain": [
              "[4, 6, 9, 3, 8, 5, 2, 1, 7]"
            ]
          },
          "metadata": {
            "tags": []
          },
          "execution_count": 3
        }
      ]
    },
    {
      "cell_type": "code",
      "metadata": {
        "colab": {
          "base_uri": "https://localhost:8080/"
        },
        "id": "bTEeH9QCNhA_",
        "outputId": "b88b0b5f-6ddf-4f90-e3dc-57872cdb2b2f"
      },
      "source": [
        "class Veinculo():\n",
        "  def __init__(self):\n",
        "      pass\n",
        "\n",
        "class Carro(Veinculo):\n",
        "  def __init__(self):\n",
        "    super(Carro,self).__init__()\n",
        "\n",
        "class Trem(Veinculo):\n",
        "  pass\n",
        "\n",
        "Carro.__mro__\n",
        "\n",
        "class CarroTrem(Carro,Trem):\n",
        "  pass\n",
        "\n",
        "CarroTrem.__mro__"
      ],
      "execution_count": 6,
      "outputs": [
        {
          "output_type": "execute_result",
          "data": {
            "text/plain": [
              "(__main__.CarroTrem, __main__.Carro, __main__.Trem, __main__.Veinculo, object)"
            ]
          },
          "metadata": {
            "tags": []
          },
          "execution_count": 6
        }
      ]
    },
    {
      "cell_type": "code",
      "metadata": {
        "id": "KNjG4wOOTByD"
      },
      "source": [
        "#mixins\n",
        "'''\n",
        "Quando utilizar?\n",
        "\n",
        "1) Se você desejar reutilizar uma determinada feature em várias classes diferentes.\n",
        "2) Para melhorar a modularidade.\n",
        "\n",
        "Mixins é uma forma controlada de adicionar funcionalidades as classes.\n",
        "\n",
        "Propriedades:\n",
        "1) não deve ser extendida\n",
        "2) não deve ser instanciada\n",
        "\n",
        "Em Python, o conceito de mixins é implementado utilizando herança múltipla.\n",
        "'''\n",
        "\n",
        "class Livro(object):\n",
        "\tdef __init__(self, nome, conteudo):\n",
        "\t\tself.nome = nome\n",
        "\t\tself.conteudo = conteudo\n",
        "\n",
        "class LivroHTMLMixin(object):\n",
        "\tdef renderizar(self):\n",
        "\t\treturn ('<html><title>%s</title><body>%s</body></html>') % (self.nome, self.conteudo)\n",
        "\n",
        "class LivroHTML(Livro, LivroHTMLMixin):\n",
        "\tpass\n",
        "\n",
        "\n",
        "livro_html = LivroHTML('Algum Livro', 'blablabla')\n",
        "print(livro_html.renderizar())"
      ],
      "execution_count": null,
      "outputs": []
    },
    {
      "cell_type": "code",
      "metadata": {
        "colab": {
          "base_uri": "https://localhost:8080/"
        },
        "id": "bl0i8X-YeH9b",
        "outputId": "d61917fe-fca7-4909-baf5-067c9b68ff9c"
      },
      "source": [
        "import itertools\n",
        "def count(n):\n",
        "  while True:\n",
        "    yield n\n",
        "    n +=1\n",
        "c = count(0)\n",
        "c\n",
        "for x in itertools.islice(c,10,20): #fatiando de 10 a 20 , descartando restante\n",
        "  print(x)"
      ],
      "execution_count": 9,
      "outputs": [
        {
          "output_type": "stream",
          "text": [
            "10\n",
            "11\n",
            "12\n",
            "13\n",
            "14\n",
            "15\n",
            "16\n",
            "17\n",
            "18\n",
            "19\n"
          ],
          "name": "stdout"
        }
      ]
    },
    {
      "cell_type": "code",
      "metadata": {
        "colab": {
          "base_uri": "https://localhost:8080/"
        },
        "id": "HBzzh7_NgwAK",
        "outputId": "d9fdb0eb-78b2-4947-b483-002e6e527c7c"
      },
      "source": [
        "class A:\n",
        "\n",
        "\tdef fazer_algo(self):\n",
        "\t\tpass\n",
        "\n",
        "\tdef outro_metodo(self):\n",
        "\t\tpass\n",
        "\n",
        "\tdef algum_metodo(self, nome):\n",
        "\t\tprint(nome)\n",
        "\n",
        "\n",
        "class B:\n",
        "\n",
        "\tdef __init__(self):\n",
        "\t\tself.a = A()\n",
        "\n",
        "\tdef fazer_algo(self):\n",
        "\t\t# delega para self.a\n",
        "\t\treturn self.a.fazer_algo()\n",
        "\n",
        "\tdef outro_metodo(self):\n",
        "\t\t# delega para self.a\n",
        "\t\treturn self.a.outro_metodo()\n",
        "\n",
        "\tdef __getattr__(self, nome):\n",
        "\t\treturn getattr(self.a, nome)\n",
        "\n",
        "\n",
        "b = B()\n",
        "b.fazer_algo() # chama B.fazer_algo() (existe em B)\n",
        "b.algum_metodo('python') # chama B.__getattr__('algum_metodo') e delega para A.algum_metodo"
      ],
      "execution_count": 10,
      "outputs": [
        {
          "output_type": "stream",
          "text": [
            "python\n"
          ],
          "name": "stdout"
        }
      ]
    },
    {
      "cell_type": "code",
      "metadata": {
        "id": "DLVFZoi2-Zlr"
      },
      "source": [
        "class SomentePares(list):\n",
        "\n",
        "\tdef append(self, inteiro):\n",
        "\n",
        "\t\tif not isinstance(inteiro, int):\n",
        "\t\t\traise TypeError('Somente inteiros')\n",
        "\t\tif inteiro % 2:\n",
        "\t\t\traise ValueError('Somente pares')\n",
        "\n",
        "\t\tsuper().append(inteiro)\n",
        "\n",
        "\n",
        "sp = SomentePares()\n",
        "sp.append(10)\n",
        "sp.append(20)\n",
        "#sp.append(5) #retorna o ValueError"
      ],
      "execution_count": 3,
      "outputs": []
    }
  ]
}