{
  "nbformat": 4,
  "nbformat_minor": 0,
  "metadata": {
    "colab": {
      "name": "metodos4.ipynb",
      "provenance": [],
      "authorship_tag": "ABX9TyOVAtH2p+PtYtF0NKpamTr7",
      "include_colab_link": true
    },
    "kernelspec": {
      "name": "python3",
      "display_name": "Python 3"
    }
  },
  "cells": [
    {
      "cell_type": "markdown",
      "metadata": {
        "id": "view-in-github",
        "colab_type": "text"
      },
      "source": [
        "<a href=\"https://colab.research.google.com/github/GiovanaThais/POO-PY/blob/main/metodos4.ipynb\" target=\"_parent\"><img src=\"https://colab.research.google.com/assets/colab-badge.svg\" alt=\"Open In Colab\"/></a>"
      ]
    },
    {
      "cell_type": "code",
      "metadata": {
        "colab": {
          "base_uri": "https://localhost:8080/"
        },
        "id": "QwmRuTmQus8g",
        "outputId": "ce9f0e09-ec52-4293-9c73-31fb895cbfaa"
      },
      "source": [
        "from fnmatch import fnmatch, fnmatchcase\n",
        "fnmatch('arquivo.txt','*.txt') #retorna um booleano\n",
        "\n",
        "#texto = 'arquivo.txt'\n",
        "#texto.endswith('.txt') #retorna true se no final do texto tem a palavra '.txt'\n",
        "#texto.startwith('arq') #retorna true se ao começo do texto tem 'arq'\n",
        "#texto.find('arq') #procurar em q posição é a palavra 'arq' \n"
      ],
      "execution_count": null,
      "outputs": [
        {
          "output_type": "execute_result",
          "data": {
            "text/plain": [
              "True"
            ]
          },
          "metadata": {
            "tags": []
          },
          "execution_count": 1
        }
      ]
    },
    {
      "cell_type": "code",
      "metadata": {
        "colab": {
          "base_uri": "https://localhost:8080/"
        },
        "id": "6f18ll9Ad_ax",
        "outputId": "ae0741cc-1813-4c2c-deb8-092dd5813b27"
      },
      "source": [
        "lista = [4,2,9,1,5,0]\n",
        "sorted(lista) #ordenar lista\n",
        "#for e in lista:\n",
        "  #print(e)\n",
        "for e in reversed(lista):\n",
        "  print(e) #iterando de modo inverso"
      ],
      "execution_count": null,
      "outputs": [
        {
          "output_type": "stream",
          "text": [
            "0\n",
            "5\n",
            "1\n",
            "9\n",
            "2\n",
            "4\n"
          ],
          "name": "stdout"
        }
      ]
    },
    {
      "cell_type": "code",
      "metadata": {
        "colab": {
          "base_uri": "https://localhost:8080/"
        },
        "id": "6TvV86RRgcIQ",
        "outputId": "e53c4e8e-9eda-4906-fa27-98a3bd93fd21"
      },
      "source": [
        "class Complex:\n",
        "\n",
        "\tdef __init__(self, r, i):\n",
        "\t\tself.r = r\n",
        "\t\tself.i = i\n",
        "\n",
        "\tdef __repr__(self):\n",
        "\t\treturn '({0}, {1}i)'.format(self.r, self.i)\n",
        "\n",
        "\tdef __add__(self, other):\n",
        "\t\treturn Complex(self.r + other.r, self.i + other.i)\n",
        "\n",
        "c1 = Complex(3,2)\n",
        "c2 = Complex(2,4)\n",
        "c3 = c1 + c2\n",
        "print(c3)\n",
        "#arredondar valores = round(1.38,1)\n",
        "round(3.5)"
      ],
      "execution_count": 2,
      "outputs": [
        {
          "output_type": "stream",
          "text": [
            "(5, 6i)\n"
          ],
          "name": "stdout"
        },
        {
          "output_type": "execute_result",
          "data": {
            "text/plain": [
              "4"
            ]
          },
          "metadata": {
            "tags": []
          },
          "execution_count": 2
        }
      ]
    },
    {
      "cell_type": "code",
      "metadata": {
        "colab": {
          "base_uri": "https://localhost:8080/",
          "height": 52
        },
        "id": "69ovQ2RoiL_g",
        "outputId": "d1f79a03-29ea-46f8-cbec-931029968573"
      },
      "source": [
        "texto = 'java é legal '\n",
        "print(texto)\n",
        "texto.replace('java','python') #substitui a palavra java por python "
      ],
      "execution_count": null,
      "outputs": [
        {
          "output_type": "stream",
          "text": [
            "java é legal \n"
          ],
          "name": "stdout"
        },
        {
          "output_type": "execute_result",
          "data": {
            "application/vnd.google.colaboratory.intrinsic+json": {
              "type": "string"
            },
            "text/plain": [
              "'python é legal '"
            ]
          },
          "metadata": {
            "tags": []
          },
          "execution_count": 8
        }
      ]
    },
    {
      "cell_type": "code",
      "metadata": {
        "colab": {
          "base_uri": "https://localhost:8080/",
          "height": 35
        },
        "id": "WoOjaiR6j0N1",
        "outputId": "c05ab6ec-935b-40a7-b504-ed83732f7d6d"
      },
      "source": [
        "import re\n",
        "texto = 'a data do aniversario será dia 28/09/1998'\n",
        "re.sub(r'(\\d+)/(\\d+)/(\\d+)',r'\\3-\\2-\\1-',texto)\n",
        "texto1 = '         python      '\n",
        "texto1.strip() #remove espaços em branco \n",
        "texto2 = '------python-----'\n",
        "texto2.strip('-')\n",
        "texto3= '---python-----'\n",
        "texto3.lstrip('-') #remove a esquerda\n",
        "texto3.rstrip('-') #remove a direita \n",
        "texto.ljust(20) #alinhando a esquerda\n",
        "texto.rjust(40) #alinhando a direita \n",
        "texto.center(50) #alinhando no centro\n",
        "texto.center(50,'-')\n"
      ],
      "execution_count": null,
      "outputs": [
        {
          "output_type": "execute_result",
          "data": {
            "application/vnd.google.colaboratory.intrinsic+json": {
              "type": "string"
            },
            "text/plain": [
              "'----a data do aniversario será dia 28/09/1998-----'"
            ]
          },
          "metadata": {
            "tags": []
          },
          "execution_count": 18
        }
      ]
    },
    {
      "cell_type": "code",
      "metadata": {
        "id": "e-QDx6Q8otC2",
        "colab": {
          "base_uri": "https://localhost:8080/"
        },
        "outputId": "809ea9e0-1d12-4e91-bfa8-ca60e3b119b0"
      },
      "source": [
        "import numpy as np\n",
        "l = [1,2,3]\n",
        "print(l*2)\n",
        "x = np.array([1,2,3])\n",
        "print(x*2)\n",
        "print(x+2)"
      ],
      "execution_count": 5,
      "outputs": [
        {
          "output_type": "stream",
          "text": [
            "[1, 2, 3, 1, 2, 3]\n",
            "[2 4 6]\n",
            "[3 4 5]\n"
          ],
          "name": "stdout"
        }
      ]
    }
  ]
}