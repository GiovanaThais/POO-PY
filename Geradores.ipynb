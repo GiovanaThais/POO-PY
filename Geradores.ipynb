{
  "nbformat": 4,
  "nbformat_minor": 0,
  "metadata": {
    "colab": {
      "name": "Geradores.ipynb",
      "provenance": [],
      "authorship_tag": "ABX9TyMQe7+08XZKLL36wMemxrK+",
      "include_colab_link": true
    },
    "kernelspec": {
      "name": "python3",
      "display_name": "Python 3"
    }
  },
  "cells": [
    {
      "cell_type": "markdown",
      "metadata": {
        "id": "view-in-github",
        "colab_type": "text"
      },
      "source": [
        "<a href=\"https://colab.research.google.com/github/GiovanaThais/POO-PY/blob/main/Geradores.ipynb\" target=\"_parent\"><img src=\"https://colab.research.google.com/assets/colab-badge.svg\" alt=\"Open In Colab\"/></a>"
      ]
    },
    {
      "cell_type": "code",
      "metadata": {
        "colab": {
          "base_uri": "https://localhost:8080/"
        },
        "id": "XSc0VqvpklG2",
        "outputId": "a79c4df0-cc36-4037-ec03-c83b5d1fe771"
      },
      "source": [
        "lista = [1,2,3,4,5,6]\n",
        "for i in lista:\n",
        "  print(i)\n",
        "*n1,n2 = lista #variavel com * serve para guardar varios elementos da lista\n",
        "print(n1) #retorna os primeiros itens da lista \n",
        "print(n2) #retorna o ultimo item da lista\n",
        "n1,*n2 = lista \n",
        "print(n1) #retorna primeiro item da lista\n",
        "print(n2) #retorna os demais\n",
        "n1,*_,n3 = lista\n",
        "print(n1) #retorna o primeiro item\n",
        "print(n3) #retorna o ultimo item  e exclui os demais\n",
        "_,*n2 = lista\n",
        "print(n2) # retorna a lista sem o primeiro item \n",
        "n1,n2,n3,n4,n5,n6 = lista\n",
        "print(n1,n2,n3,n4,n5,n6)\n"
      ],
      "execution_count": 7,
      "outputs": [
        {
          "output_type": "stream",
          "text": [
            "1\n",
            "2\n",
            "3\n",
            "4\n",
            "5\n",
            "6\n",
            "[1, 2, 3, 4, 5]\n",
            "6\n",
            "1\n",
            "[2, 3, 4, 5, 6]\n",
            "1\n",
            "6\n",
            "[2, 3, 4, 5, 6]\n",
            "1 2 3 4 5 6\n"
          ],
          "name": "stdout"
        }
      ]
    },
    {
      "cell_type": "code",
      "metadata": {
        "colab": {
          "base_uri": "https://localhost:8080/"
        },
        "id": "_Y8wJti2vppF",
        "outputId": "e844024c-7f53-4469-8b0a-51eadfc4b014"
      },
      "source": [
        "def gerador():\n",
        "  for i in range(5):\n",
        "    yield i \n",
        "g = gerador()\n",
        "g #retorna o objeto gerador e a sua alocasao na memoria\n",
        "next(g)\n",
        "#apois a chamada do next a contagem ate 5 começa , porem na iteração preguiçosa\n",
        "next(g)"
      ],
      "execution_count": 4,
      "outputs": [
        {
          "output_type": "execute_result",
          "data": {
            "text/plain": [
              "1"
            ]
          },
          "metadata": {
            "tags": []
          },
          "execution_count": 4
        }
      ]
    }
  ]
}