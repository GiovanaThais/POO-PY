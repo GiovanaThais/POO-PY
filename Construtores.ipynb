{
  "nbformat": 4,
  "nbformat_minor": 0,
  "metadata": {
    "colab": {
      "name": "Construtores.ipynb",
      "provenance": [],
      "authorship_tag": "ABX9TyNF4d5DKiRpRVCFrpMRYbPA",
      "include_colab_link": true
    },
    "kernelspec": {
      "name": "python3",
      "display_name": "Python 3"
    }
  },
  "cells": [
    {
      "cell_type": "markdown",
      "metadata": {
        "id": "view-in-github",
        "colab_type": "text"
      },
      "source": [
        "<a href=\"https://colab.research.google.com/github/GiovanaThais/POO-PY/blob/main/Construtores.ipynb\" target=\"_parent\"><img src=\"https://colab.research.google.com/assets/colab-badge.svg\" alt=\"Open In Colab\"/></a>"
      ]
    },
    {
      "cell_type": "code",
      "metadata": {
        "colab": {
          "base_uri": "https://localhost:8080/"
        },
        "id": "Big-RwINMhCe",
        "outputId": "376c359c-5396-4772-8b4a-15bf2429f5b7"
      },
      "source": [
        "import math\n",
        "class Formas():\n",
        "  def __init__(self):\n",
        "    print(\"construtor da forma\")\n",
        "\n",
        "  def area(self):\n",
        "    print(\"area da forma\")\n",
        "\n",
        "  def perimetro(self):\n",
        "    print(\"perimetro da forma\")\n",
        "  def descricao(self):\n",
        "    print(\"descrição da forma\")\n",
        "\n",
        "class Quadrado(Formas):\n",
        "  def __init__(self,lado):\n",
        "    self.lado = lado \n",
        "  def area(self):\n",
        "    return self.lado**2\n",
        "\n",
        "  def perimetro(self):\n",
        "    return self.lado *4\n",
        "\n",
        "class Circulo(Formas):\n",
        "  def __init__(self,raio):\n",
        "    self.raio = raio\n",
        "  def area(self):\n",
        "    return (self.raio **2 )* math.pi \n",
        "\n",
        "  def perimetro(self):\n",
        "    return 2*math.pi *self.raio\n",
        "\n",
        "quad = Quadrado(2) #instanciar objeto\n",
        "print('Área: %d '% quad.area())\n",
        "print(f'Périmetro: %d'% quad.perimetro())\n",
        "quad.descricao()\n",
        "\n",
        "circ = Circulo(2)\n",
        "print(f'Area: {circ.area()}')\n",
        "print(f'Perimetro: {circ.perimetro()}')\n",
        "\n"
      ],
      "execution_count": null,
      "outputs": [
        {
          "output_type": "stream",
          "text": [
            "Área: 4 \n",
            "Périmetro: 8\n",
            "descrição da forma\n",
            "Area: 12.566370614359172\n",
            "Perimetro: 12.566370614359172\n"
          ],
          "name": "stdout"
        }
      ]
    },
    {
      "cell_type": "code",
      "metadata": {
        "colab": {
          "base_uri": "https://localhost:8080/"
        },
        "id": "N1rUkUpOY7Bq",
        "outputId": "0a3ce039-6d94-4d74-fd78-9cb5f8ba6010"
      },
      "source": [
        " class Operador(): #sobrecarregando operadores\n",
        "\n",
        "\tdef __init__(self, numero):\n",
        "\t\tself.numero = numero\n",
        "\n",
        "\tdef __add__(self, op): #metodo retorna uma adição substituido por = '+'\n",
        "\t\treturn self.numero ** op.numero\n",
        "\n",
        "\tdef __mul__(self, op): #metodo q retorna uma multiplicação \"*\"\n",
        "\t\treturn self.numero / op.numero\n",
        "\n",
        "\tdef __sub__(self, op): #metodo q retorna uma subtração '-' \n",
        "\t\treturn self.numero * op.numero\n",
        "\n",
        "if __name__ == '__main__':\n",
        "\tx = Operador(10)\n",
        "\ty = Operador(2)\n",
        "\tprint(x + y)\n",
        "\tprint(x*y)\n",
        "\tprint(x - y)"
      ],
      "execution_count": null,
      "outputs": [
        {
          "output_type": "stream",
          "text": [
            "100\n",
            "5.0\n",
            "20\n"
          ],
          "name": "stdout"
        }
      ]
    },
    {
      "cell_type": "code",
      "metadata": {
        "colab": {
          "base_uri": "https://localhost:8080/"
        },
        "id": "ly6ILKu8djVS",
        "outputId": "56388976-53f1-4f80-ac92-8b2746a4a91e"
      },
      "source": [
        "class Data:\n",
        "  def __init__(self,dia,mes,ano): #construtor contendo os atributos \n",
        "    self.dia = dia\n",
        "    self.mes = mes \n",
        "    self.ano = ano\n",
        "\n",
        "  @classmethod #definindo um metodo de classe usando decoration classmetod,atravez dele pode herdar e subsescrever \n",
        "  def de_string(cls, data_string ): #10-10-2016 #cls é o primeiro parametro de classemetod\n",
        "      dia, mes, ano = map(int, data_string.split('-'))#map pega cada elemento da lista e aplica uma função nele, nesse caso :pega uma string e transforma em int\n",
        "      data = cls(dia, mes, ano) #chama o construtor \n",
        "      return data\n",
        "\n",
        "  @staticmethod #é uma função dentro de uma classe , n é herdado , mas faz referencia a classe \n",
        "  def is_date_valid(data_string): #função pra validar a data  \n",
        "    dia, mes, ano = map(int, data_string.split('-'))  #chamar o construtor \n",
        "    return dia <= 31 and mes <= 12 and ano <= 2020\n",
        "\n",
        "\n",
        "data = Data(10, 10, 10)        \n",
        "data1 = Data.de_string(\"10-10-2016\")\n",
        "print(data1)\n",
        "vdd = Data.is_date_valid(\"30-10-2016\")\n",
        "print(vdd)\n"
      ],
      "execution_count": null,
      "outputs": [
        {
          "output_type": "stream",
          "text": [
            "<__main__.Data object at 0x7f01cfb6bdd8>\n",
            "True\n"
          ],
          "name": "stdout"
        }
      ]
    },
    {
      "cell_type": "code",
      "metadata": {
        "id": "-nAw6iuvigpp",
        "colab": {
          "base_uri": "https://localhost:8080/"
        },
        "outputId": "f0799e1f-9517-48ce-dbf6-5109dcba38ff"
      },
      "source": [
        "class Pessoa:\n",
        "\n",
        "\tdef __init__(self, nome):\n",
        "\t\tself.nome = nome\n",
        "\n",
        "\t# construtor alternativo\n",
        "\t@classmethod\n",
        "\tdef outro_construtor(cls, nome):\n",
        "\t\treturn cls(nome)\n",
        "\n",
        "'''\n",
        "p = Pessoa('marcos')\n",
        "print(p.nome)'''\n",
        "\n",
        "p = Pessoa.outro_construtor('pedro')\n",
        "print(p.nome)"
      ],
      "execution_count": null,
      "outputs": [
        {
          "output_type": "stream",
          "text": [
            "pedro\n"
          ],
          "name": "stdout"
        }
      ]
    }
  ]
}