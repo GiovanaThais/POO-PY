{
  "nbformat": 4,
  "nbformat_minor": 0,
  "metadata": {
    "colab": {
      "name": "padraoProjeto.ipynb",
      "provenance": [],
      "authorship_tag": "ABX9TyOU5dJJdp+bLoi9BzZ+STF1",
      "include_colab_link": true
    },
    "kernelspec": {
      "name": "python3",
      "display_name": "Python 3"
    }
  },
  "cells": [
    {
      "cell_type": "markdown",
      "metadata": {
        "id": "view-in-github",
        "colab_type": "text"
      },
      "source": [
        "<a href=\"https://colab.research.google.com/github/GiovanaThais/POO-PY/blob/main/padraoProjeto.ipynb\" target=\"_parent\"><img src=\"https://colab.research.google.com/assets/colab-badge.svg\" alt=\"Open In Colab\"/></a>"
      ]
    },
    {
      "cell_type": "code",
      "metadata": {
        "id": "ZudnXRBMdc9t"
      },
      "source": [
        "import random\n",
        "import unittest #importar modulo de test\n",
        "\n",
        "class TestSequenciaFunctions(unittest.TestCase): #passando como parametro na classe de teste\n",
        "  def setUp(self): #primeiro teste executado é o setUp\n",
        "    self.seq = list(range(10))\n",
        "  def test_shuffle(self):\n",
        "    #certificando de q a sequencia embaralhada não perdeu nenhum elemento\n",
        "    random.shuffle(self.seq)\n",
        "    self.seq.sort()\n",
        "    self.assertEqual(self.seq,list(range(10)))\n",
        "\n",
        "    #deve gerar uma exceção para uma sequencia imutavel \n",
        "    self.assertRaises(TypeErro,random.shuffle,(1,2,3))\n",
        "\n",
        "    def test_choice(self):\n",
        "        element = random.choice(self.seq)\n",
        "        self.assertTrue(element in self.seq)\n",
        "\n",
        "    def test_sample(self):\n",
        "        with self.assertRaises(ValueError):\n",
        "            random.sample(self.seq, 20)\n",
        "        for element in random.sample(self.seq, 5):\n",
        "            self.assertTrue(element in self.seq)\n",
        "\n",
        "if __name__ == '__main__':\n",
        "    unittest.main()\n"
      ],
      "execution_count": null,
      "outputs": []
    },
    {
      "cell_type": "code",
      "metadata": {
        "colab": {
          "base_uri": "https://localhost:8080/"
        },
        "id": "HXJZbFp1anO4",
        "outputId": "21ee8d80-c9fd-4011-adc2-a5fc8416c59b"
      },
      "source": [
        "#padrão singleton \n",
        "\n",
        "class Singleton(object): \n",
        "  def __new__(cls): #metodo new é para instanciar objetos\n",
        "    if not hasattr(cls,'instance'):#verificar se o objeto ja existe \n",
        "      cls.instance = super(Singleton,cls).__new__(cls)\n",
        "    return cls.instance\n",
        "s1 = Singleton()\n",
        "print(s1)\n",
        "s2 = Singleton()\n",
        "print(s2)\n"
      ],
      "execution_count": null,
      "outputs": [
        {
          "output_type": "stream",
          "text": [
            "<__main__.Singleton object at 0x7fa7cd3fe400>\n",
            "<__main__.Singleton object at 0x7fa7cd3fe400>\n"
          ],
          "name": "stdout"
        }
      ]
    },
    {
      "cell_type": "code",
      "metadata": {
        "colab": {
          "base_uri": "https://localhost:8080/"
        },
        "id": "zKQLrv86dOwn",
        "outputId": "618e80db-6b3e-4521-ba67-faee0e96d412"
      },
      "source": [
        "#instanciação preguiçosa é uma maneira de trabalhar com objetos reduzidos\n",
        "#e cria-los somente quando houver necessidade\n",
        "class Singleton:\n",
        "  __instance = None #instancia vazia\n",
        "  def __init__(self):\n",
        "     if not Singleton.__instance: #se a instancia não existir\n",
        "       print('-_init__ foi chamado') #verificar se n existe a instancia\n",
        "     else:\n",
        "      print('instancia ja criada',self.obter_instancia())\n",
        "\n",
        "  @classmethod #decoration para definir uma classe com mais de um construtor\n",
        "  def obter_instancia(cls): #metodo para obter uma instancia\n",
        "    if not cls.__instance: #se ainda n existir na classe uma instancia\n",
        "      cls.__instance = Singleton() #chamamos o singleton\n",
        "    return cls.__instance\n",
        "\n",
        "s= Singleton()\n",
        "print('Objeto criado :', Singleton.obter_instancia())\n",
        "s2 = Singleton()\n",
        "\n"
      ],
      "execution_count": null,
      "outputs": [
        {
          "output_type": "stream",
          "text": [
            "-_init__ foi chamado\n",
            "-_init__ foi chamado\n",
            "Objeto criado : <__main__.Singleton object at 0x7fa7ccae1eb8>\n",
            "instancia ja criada <__main__.Singleton object at 0x7fa7ccae1eb8>\n"
          ],
          "name": "stdout"
        }
      ]
    },
    {
      "cell_type": "code",
      "metadata": {
        "colab": {
          "base_uri": "https://localhost:8080/"
        },
        "id": "IT90kObvmjlR",
        "outputId": "c1d6edae-42d5-4702-9f23-f139dd0070b3"
      },
      "source": [
        "class MinhaClasse:\n",
        "  __estado_compartilhado = {'1':'2'}\n",
        "  def __init__(self):\n",
        "    self.x = 1\n",
        "    self.__dict__ = self.__estado_compartilhado\n",
        "\n",
        "b1 = MinhaClasse()\n",
        "b2 = MinhaClasse()\n",
        "b1.x = 5\n",
        "print(b1)\n",
        "print(b2) #b1 e b2 sao objetos diferentes\n",
        "\n",
        "print(b1.__dict__)\n",
        "print(b2.__dict__) #b1 e b2 compartilham mesmo estado (espaço de memoria\n"
      ],
      "execution_count": null,
      "outputs": [
        {
          "output_type": "stream",
          "text": [
            "<__main__.MinhaClasse object at 0x7fa7c4dd4b38>\n",
            "<__main__.MinhaClasse object at 0x7fa7c4dd4ac8>\n",
            "{'1': '2', 'x': 5}\n",
            "{'1': '2', 'x': 5}\n"
          ],
          "name": "stdout"
        }
      ]
    },
    {
      "cell_type": "code",
      "metadata": {
        "id": "uYtj1L3P8Ojp",
        "colab": {
          "base_uri": "https://localhost:8080/"
        },
        "outputId": "0997d9a9-e257-4852-bf6f-456d4c3df9a3"
      },
      "source": [
        "import sqlite3\n",
        "\n",
        "class MetaSingleton(type):\n",
        "\t_instances = {}\n",
        "\tdef __call__(cls, *args, **kwargs):\n",
        "\t\tif cls not in cls._instances:\n",
        "\t\t\tcls._instances[cls] = super(MetaSingleton, cls).__call__(*args, **kwargs)\n",
        "\t\treturn cls._instances[cls]\n",
        "\n",
        "class Database(metaclass=MetaSingleton):\n",
        "\tconnection = None\n",
        "\tdef connect(self):\n",
        "\t\tif self.connection is None:\n",
        "\t\t\tself.connection = sqlite3.connect('database.db')\n",
        "\t\t\tself.cursor = self.connection.cursor()\n",
        "\t\treturn self.cursor\n",
        "\n",
        "db1 = Database().connect()\n",
        "db2 = Database().connect()\n",
        "\n",
        "print(db1, db2)"
      ],
      "execution_count": 1,
      "outputs": [
        {
          "output_type": "stream",
          "text": [
            "<sqlite3.Cursor object at 0x7fdf4bcaf110> <sqlite3.Cursor object at 0x7fdf4bcaf110>\n"
          ],
          "name": "stdout"
        }
      ]
    },
    {
      "cell_type": "code",
      "metadata": {
        "colab": {
          "base_uri": "https://localhost:8080/"
        },
        "id": "EN-AB85RCA6b",
        "outputId": "70d10541-a2f8-4abf-ad0c-29d9d7ac57e7"
      },
      "source": [
        "from abc import ABCMeta, abstractmethod\n",
        "\n",
        "class Animal(metaclass = ABCMeta):\n",
        "\t@abstractmethod\n",
        "\tdef som(self):\n",
        "\t\tpass\n",
        "\n",
        "class Cachorro(Animal):\n",
        "\tdef som(self):\n",
        "\t\tprint('au au au')\n",
        "\n",
        "class Gato(Animal):\n",
        "\tdef som(self):\n",
        "\t\tprint('miau miau')\n",
        "\n",
        "class Fabrica(object):\n",
        "\tdef produzir_som(self, object_type):\n",
        "\t\treturn eval(object_type)().som()\n",
        "\n",
        "if __name__ == '__main__':\n",
        "\tf = Fabrica()\n",
        "\tf.produzir_som('Gato')"
      ],
      "execution_count": 2,
      "outputs": [
        {
          "output_type": "stream",
          "text": [
            "miau miau\n"
          ],
          "name": "stdout"
        }
      ]
    },
    {
      "cell_type": "code",
      "metadata": {
        "id": "tvvwFXdbC41C"
      },
      "source": [
        "from abc import ABCMeta, abstractmethod\n",
        "\n",
        "class Secao(metaclass=ABCMeta):\n",
        "\t@abstractmethod\n",
        "\tdef descricao(self):\n",
        "\t\tpass\n",
        "\n",
        "class SecaoPessoal(Secao):\n",
        "\tdef descricao(self):\n",
        "\t\tprint('seção pessoal')\n",
        "\n",
        "class SecaoAlbum(Secao):\n",
        "\tdef descricao(self):\n",
        "\t\tprint('seção de fotos')\n",
        "\n",
        "class SecaoPatente(Secao):\n",
        "\tdef descricao(self):\n",
        "\t\tprint('seção patente')\n",
        "\n",
        "class SecaoPublicacao(Secao):\n",
        "\tdef descricao(self):\n",
        "\t\tprint('seção patente')\n",
        "\n",
        "class Perfil(metaclass=ABCMeta):\n",
        "\n",
        "\tdef __init__(self):\n",
        "\t\tself.secoes = []\n",
        "\t\tself.criar_perfil()\n",
        "\n",
        "\t@abstractmethod\n",
        "\tdef criar_perfil(self):\n",
        "\t\tpass\n",
        "\n",
        "\tdef obter_secoes(self):\n",
        "\t\treturn self.secoes\n",
        "\n",
        "\tdef add_secoes(self, secao):\n",
        "\t\tself.secoes.append(secao)\n",
        "\n",
        "class Facebook(Perfil):\n",
        "\tdef criar_perfil(self):\n",
        "\t\tself.add_secoes(SecaoPessoal())\n",
        "\t\tself.add_secoes(SecaoPatente())\n",
        "\t\tself.add_secoes(SecaoPublicacao())\n",
        "\n",
        "class Twitter(Perfil):\n",
        "\tdef criar_perfil(self):\n",
        "\t\tself.add_secoes(SecaoAlbum())\n",
        "\t\tself.add_secoes(SecaoPessoal())\n",
        "\n",
        "if __name__ == '__main__':\n",
        "\ttipo_perfil = 'Facebook'\n",
        "\tperfil = eval(tipo_perfil)()\n",
        "\tprint(perfil.obter_secoes())"
      ],
      "execution_count": null,
      "outputs": []
    }
  ]
}