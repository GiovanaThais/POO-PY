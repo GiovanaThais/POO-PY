{
  "nbformat": 4,
  "nbformat_minor": 0,
  "metadata": {
    "colab": {
      "name": "Excesoes1.ipynb",
      "provenance": [],
      "authorship_tag": "ABX9TyPDfW+uYUwxtQvoRklRBaYH",
      "include_colab_link": true
    },
    "kernelspec": {
      "name": "python3",
      "display_name": "Python 3"
    }
  },
  "cells": [
    {
      "cell_type": "markdown",
      "metadata": {
        "id": "view-in-github",
        "colab_type": "text"
      },
      "source": [
        "<a href=\"https://colab.research.google.com/github/GiovanaThais/POO-PY/blob/main/Excesoes1.ipynb\" target=\"_parent\"><img src=\"https://colab.research.google.com/assets/colab-badge.svg\" alt=\"Open In Colab\"/></a>"
      ]
    },
    {
      "cell_type": "code",
      "metadata": {
        "id": "fRuLJ-fYcN9R"
      },
      "source": [
        "class SomentePares(list):\n",
        "\n",
        "  def append(self,inteiro):\n",
        "    if not isinstance(inteiro,int):\n",
        "      raise typeError(\"somente inteiros\")\n",
        "    if inteiro % 2 :\n",
        "      raise ValueError(\"somente pares\")\n",
        "\n",
        "    super().append(inteiro)\n",
        "\n",
        "  "
      ],
      "execution_count": 1,
      "outputs": []
    },
    {
      "cell_type": "code",
      "metadata": {
        "id": "RO_SqjtVsRLk"
      },
      "source": [
        "'''\n",
        "def algo():\n",
        "\traise Exception('excecao')\n",
        "\tprint('depois do raise')\n",
        "\n",
        "def algo2():\n",
        "\ttry:\n",
        "\t\talgo()\n",
        "\texcept:\n",
        "\t\tprint('Eu peguei uma excecao')\n",
        "\t\tprint('executado apos a excecao')\n",
        "\n",
        "algo2()\n",
        "'''\n",
        "\n",
        "def divisao(divisor):\n",
        "\n",
        "\ttry:\n",
        "\t\tif divisor == 13:\n",
        "\t\t\traise ValueError('13 nao eh legal')\n",
        "\t\t#return 10 / divisor\n",
        "\texcept ZeroDivisionError:\n",
        "\t\treturn 'Divisao por zero'\n",
        "\texcept TypeError:\n",
        "\t\treturn 'Entre um um valor numerico'\n",
        "\texcept ValueError:\n",
        "\t\tprint('Nao utilize o numero 13')\n",
        "\t\traise\n",
        "\telse:\n",
        "\t\tprint('Nao ocorreu nenhuma excecao')\n",
        "\tfinally:\n",
        "\t\tprint('isso sempre sera executado')\n",
        "\n",
        "\n",
        "divisao(15)\n",
        "\n",
        "'''\n",
        "try:\n",
        "\traise ValueError('Este eh um argumento')\n",
        "except ValueError as e:\n",
        "\tprint('Os argumentos da exececao foram', e.args)\n",
        "finally:\n",
        "\tprint('isso sempre sera executado')\n",
        "'''"
      ],
      "execution_count": null,
      "outputs": []
    },
    {
      "cell_type": "code",
      "metadata": {
        "colab": {
          "base_uri": "https://localhost:8080/"
        },
        "id": "fgCKUwml44bw",
        "outputId": "0989de96-9db4-447f-bc53-6b5d960cff02"
      },
      "source": [
        "class Divisao:\n",
        "  def dividir(divisor):\n",
        "    try:\n",
        "      return 10/divisor\n",
        "    except(ZeroDivisionError,TypeError):\n",
        "      return \"Insira um numero inteiro maior que 0 \"\n",
        "\n",
        "  print(dividir(0))\n",
        "  print(dividir(10))\n",
        "  print(dividir('dez'))\n",
        "  print(dividir(13))\n",
        "\n",
        "\n"
      ],
      "execution_count": null,
      "outputs": [
        {
          "output_type": "stream",
          "text": [
            "Insira um numero inteiro maior que 0 \n",
            "1.0\n",
            "Insira um numero inteiro maior que 0 \n",
            "0.7692307692307693\n"
          ],
          "name": "stdout"
        }
      ]
    }
  ]
}