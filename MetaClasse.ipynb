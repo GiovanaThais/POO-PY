{
  "nbformat": 4,
  "nbformat_minor": 0,
  "metadata": {
    "colab": {
      "name": "MetaClasse.ipynb",
      "provenance": [],
      "collapsed_sections": [],
      "authorship_tag": "ABX9TyOLBr3OLwlMsucrz8KZHgsF",
      "include_colab_link": true
    },
    "kernelspec": {
      "name": "python3",
      "display_name": "Python 3"
    }
  },
  "cells": [
    {
      "cell_type": "markdown",
      "metadata": {
        "id": "view-in-github",
        "colab_type": "text"
      },
      "source": [
        "<a href=\"https://colab.research.google.com/github/GiovanaThais/POO-PY/blob/main/MetaClasse.ipynb\" target=\"_parent\"><img src=\"https://colab.research.google.com/assets/colab-badge.svg\" alt=\"Open In Colab\"/></a>"
      ]
    },
    {
      "cell_type": "code",
      "metadata": {
        "colab": {
          "base_uri": "https://localhost:8080/"
        },
        "id": "J-VhRKtqO8ZO",
        "outputId": "73083c9c-68cc-4c4a-963e-61f1ebeb44ca"
      },
      "source": [
        "idade = 20 \n",
        "idade.__class__ #retorna a classificação do q tem na idade ,nesse caso é um int\n",
        "idade.__class__.__class__ #retorna a classificação do q é int, que é um tipo\n"
      ],
      "execution_count": 2,
      "outputs": [
        {
          "output_type": "execute_result",
          "data": {
            "text/plain": [
              "type"
            ]
          },
          "metadata": {
            "tags": []
          },
          "execution_count": 2
        }
      ]
    },
    {
      "cell_type": "code",
      "metadata": {
        "colab": {
          "base_uri": "https://localhost:8080/"
        },
        "id": "NLXnYzIfQZSz",
        "outputId": "884a4d67-6117-4604-f91d-0fa8e34dc8dd"
      },
      "source": [
        "class MinhaMetaClasse(type):\n",
        "  def __new__(cls,clsname,superclasses,attributedict):\n",
        "    print('cls nome: ',clsname)\n",
        "    print('superclasse: ',superclasses)\n",
        "    print('atributos: ',attributedict)\n",
        "    return type.__new__(cls,clsname,superclasses,attributedict)\n",
        "\n",
        "class Pai:\n",
        "  pass\n",
        "  '''def __init__(self,cpf):\n",
        "    self.cpf = cpf '''\n",
        "  \n",
        "class Filha(Pai,metaclass= MinhaMetaClasse):\n",
        "  pass\n",
        "  #super.Pai(self.cpf)\n",
        "\n",
        "obj = Filha()\n",
        "print(obj.__class__.__class__)\n",
        "\n"
      ],
      "execution_count": 13,
      "outputs": [
        {
          "output_type": "stream",
          "text": [
            "cls nome:  Filha\n",
            "superclasse:  (<class '__main__.Pai'>,)\n",
            "atributos:  {'__module__': '__main__', '__qualname__': 'Filha'}\n",
            "<class '__main__.MinhaMetaClasse'>\n"
          ],
          "name": "stdout"
        }
      ]
    },
    {
      "cell_type": "code",
      "metadata": {
        "colab": {
          "base_uri": "https://localhost:8080/"
        },
        "id": "ug7e2jwlQiCN",
        "outputId": "ccd12280-355c-4df4-c352-e2b938b70433"
      },
      "source": [
        "lista = ['python','lua','ruby','c','php','javascript']\n",
        "sorted(lista,key=len)\n"
      ],
      "execution_count": 14,
      "outputs": [
        {
          "output_type": "execute_result",
          "data": {
            "text/plain": [
              "['c', 'lua', 'php', 'ruby', 'python', 'javascript']"
            ]
          },
          "metadata": {
            "tags": []
          },
          "execution_count": 14
        }
      ]
    }
  ]
}