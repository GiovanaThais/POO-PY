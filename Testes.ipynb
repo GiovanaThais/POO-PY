{
  "nbformat": 4,
  "nbformat_minor": 0,
  "metadata": {
    "colab": {
      "name": "Testes.ipynb",
      "provenance": [],
      "authorship_tag": "ABX9TyMLQozYiJKbErjw2J2UA+gS",
      "include_colab_link": true
    },
    "kernelspec": {
      "name": "python3",
      "display_name": "Python 3"
    }
  },
  "cells": [
    {
      "cell_type": "markdown",
      "metadata": {
        "id": "view-in-github",
        "colab_type": "text"
      },
      "source": [
        "<a href=\"https://colab.research.google.com/github/GiovanaThais/POO-PY/blob/main/Testes.ipynb\" target=\"_parent\"><img src=\"https://colab.research.google.com/assets/colab-badge.svg\" alt=\"Open In Colab\"/></a>"
      ]
    },
    {
      "cell_type": "code",
      "metadata": {
        "colab": {
          "base_uri": "https://localhost:8080/",
          "height": 316
        },
        "id": "n8CF6jTE5YnO",
        "outputId": "e8ef70c7-63bc-4eda-dd76-d3382e2bb7d9"
      },
      "source": [
        "import unittest\n",
        "class ConverteNumRomano:\n",
        "  def __init__(self):\n",
        "    self.dig_map = {\"M\":1000, \"D\":500, \"C\":100, \"L\":50, \"X\":10, \"V\":5, \"I\":1}\n",
        "\n",
        "  def converte(self,romano):\n",
        "    val =0\n",
        "    for char in romano:\n",
        "        val += self.dig_map[char]\n",
        "    return val\n",
        "\n",
        "class TestConverteNumRomano(unittest.TestCase): #classse apenas para testar\n",
        "    def  setUp(self): #é exacutado antes de qualquer teste\n",
        "      #print('Construir o objeto da classe ConverteNumRomano')\n",
        "      self.crn = ConverteNumRomano()\n",
        "\n",
        "    def tearDown(self):\n",
        "      #print(\"Destruir o objeto da classe ConverteNumRomano\") \n",
        "      self.cnr = None\n",
        "    @unittest.skip(\"testando skip\")\n",
        "    def test_mil(self): #deve começar com 'test' para indicar que é teste\n",
        "        value = ConverteNumRomano('M')\n",
        "        self.assertEqual(1000,value.converte()) #cria excessao caso os valores n forem iguais \n",
        "\n",
        "    def test_cem(self):\n",
        "        #value = ConverteNumRomano('C')\n",
        "        self.assertEqual(100,value.converte())\n",
        "\n",
        "    def test_quinhentos(self):\n",
        "        #value = ConverteNumRomano('D')\n",
        "        self.assertEqual(500,value.converte())\n",
        "    \n",
        "    def test_cinquenta(self):\n",
        "        #value = ConverteNumRomano('L')\n",
        "        self.assertEqual(50,value.converte())\n",
        "    \n",
        "    def test_dez(self):\n",
        "        #value = ConverteNumRomano('X')\n",
        "        self.assertEqual(10,value.converte())\n",
        "    \n",
        "    def test_cinco(self):\n",
        "        #value = ConverteNumRomano('V')\n",
        "        self.assertEqual(5,value.converte())\n",
        "    \n",
        "    def test_um(self):\n",
        "        #value = ConverteNumRomano('I')\n",
        "        self.assertEqual(1,value.converte())\n",
        "    \n",
        "    def test_vazio(self):\n",
        "        #value = ConverteNumRomano('')\n",
        "        self.assertTrue(value.coverte() == 0)\n",
        "    \n",
        "\n",
        "if __name__ == '__main__':\n",
        "    unittest.main()\n"
      ],
      "execution_count": 2,
      "outputs": [
        {
          "output_type": "stream",
          "text": [
            "E\n",
            "======================================================================\n",
            "ERROR: /root/ (unittest.loader._FailedTest)\n",
            "----------------------------------------------------------------------\n",
            "AttributeError: module '__main__' has no attribute '/root/'\n",
            "\n",
            "----------------------------------------------------------------------\n",
            "Ran 1 test in 0.001s\n",
            "\n",
            "FAILED (errors=1)\n"
          ],
          "name": "stderr"
        },
        {
          "output_type": "error",
          "ename": "SystemExit",
          "evalue": "ignored",
          "traceback": [
            "An exception has occurred, use %tb to see the full traceback.\n",
            "\u001b[0;31mSystemExit\u001b[0m\u001b[0;31m:\u001b[0m True\n"
          ]
        },
        {
          "output_type": "stream",
          "text": [
            "/usr/local/lib/python3.6/dist-packages/IPython/core/interactiveshell.py:2890: UserWarning: To exit: use 'exit', 'quit', or Ctrl-D.\n",
            "  warn(\"To exit: use 'exit', 'quit', or Ctrl-D.\", stacklevel=1)\n"
          ],
          "name": "stderr"
        }
      ]
    },
    {
      "cell_type": "code",
      "metadata": {
        "id": "zbkKinPzFPwz"
      },
      "source": [
        "#doctest\n",
        "#exemplo fibonnacci\n",
        "import doctest\n",
        "class fib:\n",
        "\n",
        "    def calculo_fib(self, n):\n",
        "        \"\"\"\n",
        "        Método para cálcular o fibonacci\n",
        "\n",
        "        >>> f.calculo_fib(10)\n",
        "        55\n",
        "        >>> f.calculo_fib(1)\n",
        "        1\n",
        "        >>> f.calculo_fib(-1)\n",
        "        Traceback (most recent call last):\n",
        "        ...\n",
        "        ValueError: N tem que ser maior que zero!!!\n",
        "        \"\"\"\n",
        "        if n < 0:\n",
        "            raise ValueError(\"N tem que ser maior que zero!!!\")\n",
        "\n",
        "        a, b = 0, 1\n",
        "        for i in range(n):\n",
        "            a, b = b, a + b\n",
        "        return a\n",
        "\n",
        "if __name__ == '__main__':\n",
        "    doctest.testmod(extraglobs={'f':fib()})"
      ],
      "execution_count": 3,
      "outputs": []
    },
    {
      "cell_type": "code",
      "metadata": {
        "colab": {
          "base_uri": "https://localhost:8080/",
          "height": 316
        },
        "id": "yqFBgS8OUfdx",
        "outputId": "a96f5144-ec08-402d-e59f-55ab9e4408e6"
      },
      "source": [
        "import unittest \n",
        "class Calculadora(object):\n",
        "  def somar(self,x,y):\n",
        "    return x+y\n",
        "\n",
        "class TddExemplo(unittest.TestCase):\n",
        "  def teste_soma(self):\n",
        "    calc = Calculadora()\n",
        "    result = calc.somar(10,20)\n",
        "    self.assertEqual(30, result) #testar de o resultado será realmente 30 \n",
        "\n",
        "if __name__== '__main__':\n",
        "  unittest.main()\n",
        "\n"
      ],
      "execution_count": 4,
      "outputs": [
        {
          "output_type": "stream",
          "text": [
            "E\n",
            "======================================================================\n",
            "ERROR: /root/ (unittest.loader._FailedTest)\n",
            "----------------------------------------------------------------------\n",
            "AttributeError: module '__main__' has no attribute '/root/'\n",
            "\n",
            "----------------------------------------------------------------------\n",
            "Ran 1 test in 0.004s\n",
            "\n",
            "FAILED (errors=1)\n"
          ],
          "name": "stderr"
        },
        {
          "output_type": "error",
          "ename": "SystemExit",
          "evalue": "ignored",
          "traceback": [
            "An exception has occurred, use %tb to see the full traceback.\n",
            "\u001b[0;31mSystemExit\u001b[0m\u001b[0;31m:\u001b[0m True\n"
          ]
        },
        {
          "output_type": "stream",
          "text": [
            "/usr/local/lib/python3.6/dist-packages/IPython/core/interactiveshell.py:2890: UserWarning: To exit: use 'exit', 'quit', or Ctrl-D.\n",
            "  warn(\"To exit: use 'exit', 'quit', or Ctrl-D.\", stacklevel=1)\n"
          ],
          "name": "stderr"
        }
      ]
    },
    {
      "cell_type": "code",
      "metadata": {
        "colab": {
          "base_uri": "https://localhost:8080/",
          "height": 231
        },
        "id": "7n2zbFO-QwNY",
        "outputId": "bee05694-a218-45e0-e482-609f119965b4"
      },
      "source": [
        "import logging\n",
        "\n",
        "\n",
        "format = '%(asctime)s - %(name)s - %(levelname)s - %(message)s' #formatação de saída padrão para indicar data e hora , nome do modulo, mostra qual level que foi gerado,mensagem q foi definido \n",
        "logging.basicConfig(filename=\"hello.log\", level=logging.DEBUG, filemode=\"w\", format=format)\n",
        "logger = logging.getLogger(__file__)\n",
        "\n",
        "logger.info(\"Mensagem informativa\")\n",
        "logger.debug(\"Mensagem de debug\")\n",
        "logger.error(\"Um erro aconteceu.\")\n",
        "\n",
        "\n",
        "#tipos de logging :\n",
        "'''INFO\n",
        "DEBUG\n",
        "WARNING\n",
        "ERROR\n",
        "CRITICAL\n",
        "\n",
        "loggin.basicConfig(level = logging.INFO)\n",
        "loggin.basicConfig(level = logging.DEBUG)\n",
        "'''"
      ],
      "execution_count": 5,
      "outputs": [
        {
          "output_type": "error",
          "ename": "NameError",
          "evalue": "ignored",
          "traceback": [
            "\u001b[0;31m---------------------------------------------------------------------------\u001b[0m",
            "\u001b[0;31mNameError\u001b[0m                                 Traceback (most recent call last)",
            "\u001b[0;32m<ipython-input-5-3f2ec85c2b58>\u001b[0m in \u001b[0;36m<module>\u001b[0;34m()\u001b[0m\n\u001b[1;32m      4\u001b[0m \u001b[0mformat\u001b[0m \u001b[0;34m=\u001b[0m \u001b[0;34m'%(asctime)s - %(name)s - %(levelname)s - %(message)s'\u001b[0m \u001b[0;31m#formatação de saída padrão para indicar data e hora , nome do modulo, mostra qual level que foi gerado,mensagem q foi definido\u001b[0m\u001b[0;34m\u001b[0m\u001b[0;34m\u001b[0m\u001b[0m\n\u001b[1;32m      5\u001b[0m \u001b[0mlogging\u001b[0m\u001b[0;34m.\u001b[0m\u001b[0mbasicConfig\u001b[0m\u001b[0;34m(\u001b[0m\u001b[0mfilename\u001b[0m\u001b[0;34m=\u001b[0m\u001b[0;34m\"hello.log\"\u001b[0m\u001b[0;34m,\u001b[0m \u001b[0mlevel\u001b[0m\u001b[0;34m=\u001b[0m\u001b[0mlogging\u001b[0m\u001b[0;34m.\u001b[0m\u001b[0mDEBUG\u001b[0m\u001b[0;34m,\u001b[0m \u001b[0mfilemode\u001b[0m\u001b[0;34m=\u001b[0m\u001b[0;34m\"w\"\u001b[0m\u001b[0;34m,\u001b[0m \u001b[0mformat\u001b[0m\u001b[0;34m=\u001b[0m\u001b[0mformat\u001b[0m\u001b[0;34m)\u001b[0m\u001b[0;34m\u001b[0m\u001b[0;34m\u001b[0m\u001b[0m\n\u001b[0;32m----> 6\u001b[0;31m \u001b[0mlogger\u001b[0m \u001b[0;34m=\u001b[0m \u001b[0mlogging\u001b[0m\u001b[0;34m.\u001b[0m\u001b[0mgetLogger\u001b[0m\u001b[0;34m(\u001b[0m\u001b[0m__file__\u001b[0m\u001b[0;34m)\u001b[0m\u001b[0;34m\u001b[0m\u001b[0;34m\u001b[0m\u001b[0m\n\u001b[0m\u001b[1;32m      7\u001b[0m \u001b[0;34m\u001b[0m\u001b[0m\n\u001b[1;32m      8\u001b[0m \u001b[0mlogger\u001b[0m\u001b[0;34m.\u001b[0m\u001b[0minfo\u001b[0m\u001b[0;34m(\u001b[0m\u001b[0;34m\"Mensagem informativa\"\u001b[0m\u001b[0;34m)\u001b[0m\u001b[0;34m\u001b[0m\u001b[0;34m\u001b[0m\u001b[0m\n",
            "\u001b[0;31mNameError\u001b[0m: name '__file__' is not defined"
          ]
        }
      ]
    },
    {
      "cell_type": "code",
      "metadata": {
        "id": "w5YLf3S8h_cN"
      },
      "source": [
        "import aula\n",
        "import logging\n",
        "\n",
        "class Usuario:\n",
        "\n",
        "    def __init__(self, usuario, senha):\n",
        "        \n",
        "        self.usuario = usuario\n",
        "        self.senha = senha\n",
        "        self.dict_user = {'1':'Thomas', '2':'Marcos', '3':'José', '4':'QualquerNome'}\n",
        "\n",
        "        format = '%(asctime)s - %(name)s - %(levelname)s - %(message)s'\n",
        "        logging.basicConfig(filename=\"usuario.log\", level=logging.DEBUG, filemode=\"w\", format=format, datefmt=\"%d/%m/%Y %I:%M:%S %p\")\n",
        "        self.logger = logging.getLogger(__name__)\n",
        "\n",
        "    def alterar_senha(self, nova_senha):\n",
        "        \n",
        "        self.senha = nova_senha\n",
        "        self.logger.info(\"Alterada a senha!!\")\n",
        "\n",
        "    def autentica(self, usuario, senha):\n",
        "\n",
        "        if self.usuario != usuario or self.senha != senha:\n",
        "            self.logger.warning(\"Tentativa de acesso de inválida\")\n",
        "            return False\n",
        "        return True\n",
        "\n",
        "    def get_usuario_by_id(self, usuario_id):\n",
        "\n",
        "        user = self.dict_user.get(usuario_id, None)\n",
        "        if user is None:\n",
        "            self.logger.error(\"Usuario id não existe: usuario_id={0}\".format(usuario_id))\n",
        "            return None\n",
        "        return user\n",
        "\n",
        "    def abrir_arquivo_usuario(self):\n",
        "\n",
        "        try:\n",
        "            open('/path/to/does/not/exist', 'rb')\n",
        "        except (SystemExit, KeyboardInterrupt):\n",
        "            raise\n",
        "        except Exception as e:\n",
        "            self.logger.exception(\"Error:\")\n",
        "\n",
        "    def algoritmo_complex(self, items):\n",
        "        for i, item in enumerate(items):\n",
        "            #faz algum complexo algoritmo_complex\n",
        "            self.logger.debug('{0} iterator, item={1}'.format(i, item))\n",
        "\n",
        "if __name__ == '__main__':\n",
        "    user = Usuario(\"Thomas\", \"1234\")\n",
        "    user.alterar_senha(\"1255\")\n",
        "    user.autentica(\"Thomas\", \"324234\")\n",
        "    user.get_usuario_by_id(\"0\")\n",
        "    user.abrir_arquivo_usuario()\n",
        "    user.algoritmo_complex([1,2,3,4])\n",
        "    aula.execute()\n"
      ],
      "execution_count": null,
      "outputs": []
    },
    {
      "cell_type": "code",
      "metadata": {
        "id": "7LL1Beqfkgsu"
      },
      "source": [
        "import logging\n",
        "\n",
        "def execute():\n",
        "\tformat = '%(asctime)s - %(name)s - %(levelname)s - %(message)s'\n",
        "\tlogging.basicConfig(filename=\"hello.log\", level=logging.DEBUG, filemode=\"w\", format=format, datefmt=\"%d/%m/%Y %I:%M:%S %p\")\n",
        "\tlogger = logging.getLogger(__name__)\n",
        "\n",
        "\tlogger.info(\"Mensagem informativa\")\n",
        "\tlogger.debug(\"Mensagem de debug\")\n",
        "\tlogger.error(\"Um erro aconteceu.\")\n",
        "\n",
        "if __name__ == '__main__':\n",
        "\texecute()\n"
      ],
      "execution_count": null,
      "outputs": []
    }
  ]
}