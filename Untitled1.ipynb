{
  "nbformat": 4,
  "nbformat_minor": 0,
  "metadata": {
    "colab": {
      "name": "Untitled1.ipynb",
      "provenance": [],
      "authorship_tag": "ABX9TyNvfZZ/b5FqVNxD6IQH2IUs",
      "include_colab_link": true
    },
    "kernelspec": {
      "name": "python3",
      "display_name": "Python 3"
    }
  },
  "cells": [
    {
      "cell_type": "markdown",
      "metadata": {
        "id": "view-in-github",
        "colab_type": "text"
      },
      "source": [
        "<a href=\"https://colab.research.google.com/github/GiovanaThais/POO-PY/blob/main/Untitled1.ipynb\" target=\"_parent\"><img src=\"https://colab.research.google.com/assets/colab-badge.svg\" alt=\"Open In Colab\"/></a>"
      ]
    },
    {
      "cell_type": "code",
      "metadata": {
        "id": "ZudnXRBMdc9t"
      },
      "source": [
        "import random\n",
        "import unittest #importar modulo de test\n",
        "\n",
        "class TestSequenciaFunctions(unittest.TestCase): #passando como parametro na classe de teste\n",
        "  def setUp(self): #primeiro teste executado é o setUp\n",
        "    self.seq = list(range(10))\n",
        "  def test_shuffle(self):\n",
        "    #certificando de q a sequencia embaralhada não perdeu nenhum elemento\n",
        "    random.shuffle(self.seq)\n",
        "    self.seq.sort()\n",
        "    self.assertEqual(self.seq,list(range(10)))\n",
        "\n",
        "    #deve gerar uma exceção para uma sequencia imutavel \n",
        "    self.assertRaises(TypeErro,random.shuffle,(1,2,3))\n",
        "\n",
        "    def test_choice(self):\n",
        "        element = random.choice(self.seq)\n",
        "        self.assertTrue(element in self.seq)\n",
        "\n",
        "    def test_sample(self):\n",
        "        with self.assertRaises(ValueError):\n",
        "            random.sample(self.seq, 20)\n",
        "        for element in random.sample(self.seq, 5):\n",
        "            self.assertTrue(element in self.seq)\n",
        "\n",
        "if __name__ == '__main__':\n",
        "    unittest.main()\n"
      ],
      "execution_count": null,
      "outputs": []
    }
  ]
}