{
  "nbformat": 4,
  "nbformat_minor": 0,
  "metadata": {
    "colab": {
      "name": "Untitled1.ipynb",
      "provenance": [],
      "authorship_tag": "ABX9TyMVqbzSdp2aGP11IxQgoSYT",
      "include_colab_link": true
    },
    "kernelspec": {
      "name": "python3",
      "display_name": "Python 3"
    }
  },
  "cells": [
    {
      "cell_type": "markdown",
      "metadata": {
        "id": "view-in-github",
        "colab_type": "text"
      },
      "source": [
        "<a href=\"https://colab.research.google.com/github/GiovanaThais/POO-PY/blob/main/Untitled1.ipynb\" target=\"_parent\"><img src=\"https://colab.research.google.com/assets/colab-badge.svg\" alt=\"Open In Colab\"/></a>"
      ]
    },
    {
      "cell_type": "code",
      "metadata": {
        "id": "p7Bd1RHLwo34"
      },
      "source": [
        "import sqlite3\n",
        "\n",
        "class BancoDeDados:\n",
        "\t\"\"\"Classe que representa o banco de dados (database) da aplicação\"\"\"\n",
        "\n",
        "#construtor\n",
        "\tdef __init__(self, nome='banco.db'): #serve para inicializar o banco de dados\n",
        "\t\tself.nome, self.conexao = nome, None\n",
        "\n",
        "\tdef conecta(self):\n",
        "\t\t\"\"\"Conecta passando o nome do arquivo\"\"\"\n",
        "\t\tself.conexao = sqlite3.connect(self.nome)\n",
        "\n",
        "\tdef desconecta(self):\n",
        "\t\t\"\"\"Desconecta do banco\"\"\"\n",
        "\t\ttry:\n",
        "\t\t\tself.conexao.close()\n",
        "\t\texcept AttributeError:\n",
        "\t\t\tpass\n",
        "  def criar_tabela(self): #criando tabelas do banco\n",
        "      try:\n",
        "        cursor = self.conexao.cursor()\n",
        "\n",
        "        cursor.execute(\"\"CREATE TABLE IF NOTE EXISTS clientes(\n",
        "          id INTEGER NOT NULL PRIMARY KEY AUTOINCREMENT,\n",
        "          nome TEXT NOT NULL,\n",
        "          CPF VARCHAR(11) UNIQUE NOT NULL,\n",
        "          email TEXT NOT NULL);\"\")\n",
        "      except AttributeError:\n",
        "        print('faça conexão dos bancos antes de criar tabelas')\n",
        "\n"
      ],
      "execution_count": null,
      "outputs": []
    },
    {
      "cell_type": "code",
      "metadata": {
        "id": "pzeBgHjK9pC9"
      },
      "source": [
        "from database import BancoDeDados\n",
        "\n",
        "if __name__ == \"__main__\": #testa se foi executado pelo terminal\n",
        "\n",
        "\t\n",
        "\tbanco = BancoDeDados()\n",
        "\tbanco.conecta()\n",
        "  banco.criar_tabela()\n",
        "\tbanco.desconecta()"
      ],
      "execution_count": null,
      "outputs": []
    },
    {
      "cell_type": "code",
      "metadata": {
        "id": "wVoiIXeN8bvh"
      },
      "source": [
        ""
      ],
      "execution_count": null,
      "outputs": []
    }
  ]
}