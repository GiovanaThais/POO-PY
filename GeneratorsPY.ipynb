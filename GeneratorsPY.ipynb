{
  "nbformat": 4,
  "nbformat_minor": 0,
  "metadata": {
    "colab": {
      "name": "Untitled10.ipynb",
      "provenance": [],
      "authorship_tag": "ABX9TyOe4qo3k3PdSBlMFGyGg2mD",
      "include_colab_link": true
    },
    "kernelspec": {
      "name": "python3",
      "display_name": "Python 3"
    }
  },
  "cells": [
    {
      "cell_type": "markdown",
      "metadata": {
        "id": "view-in-github",
        "colab_type": "text"
      },
      "source": [
        "<a href=\"https://colab.research.google.com/github/GiovanaThais/POO-PY/blob/main/GeneratorsPY.ipynb\" target=\"_parent\"><img src=\"https://colab.research.google.com/assets/colab-badge.svg\" alt=\"Open In Colab\"/></a>"
      ]
    },
    {
      "cell_type": "code",
      "metadata": {
        "colab": {
          "base_uri": "https://localhost:8080/"
        },
        "id": "vDkauqMQJox-",
        "outputId": "d38b7ff8-131a-4949-a1fe-6538112ae383"
      },
      "source": [
        "# Generators (geradores)\n",
        "# Fibonacci: 1, 1, 2, 3, 5, 8 ...\n",
        "\n",
        "def fib(max):\n",
        "\tx, y = 1, 1\n",
        "\twhile x < max:\n",
        "\t\tyield x\n",
        "\t\tx, y = y, x + y\n",
        "\n",
        "\n",
        "gen = fib(10)\n",
        "'''\n",
        "print(next(gen))\n",
        "print(next(gen))\n",
        "print(next(gen))\n",
        "print(next(gen))\n",
        "'''\n",
        "\n",
        "for i in gen:\n",
        "\tprint(i, end=' ')"
      ],
      "execution_count": 4,
      "outputs": [
        {
          "output_type": "stream",
          "text": [
            "1 1 2 3 5 8 "
          ],
          "name": "stdout"
        }
      ]
    },
    {
      "cell_type": "code",
      "metadata": {
        "colab": {
          "base_uri": "https://localhost:8080/",
          "height": 129
        },
        "id": "j5QZ9-nxVic-",
        "outputId": "8e8aa53a-5bd4-4bb3-b34a-3a7ec7894c71"
      },
      "source": [
        "def algo():\n",
        "  return 1+2\n",
        "def is_prime(number):\n",
        "  for i in range(3,n):\n",
        "    if n % i == 0:\n",
        "      return False\n",
        "    return True\n",
        "'''def get_primos(input_list):\n",
        "  return (e for e in input_list if is_prime(e))\n",
        "\n",
        "def gerar_numeros():\n",
        "  yield 1\n",
        "  yield 2 \n",
        "  yield 3\n",
        "\n",
        "for v in gerar_numeros():\n",
        "  print(v, end ='')\n",
        "\n",
        "nosso_gerador = gerar_numeros()\n",
        "print(next(nosso_gerador))\n",
        "print(next(nosso_gerador))\n",
        "print(next(nosso_gerador))\n",
        "'''\n",
        "def get_primes(number):\n",
        "  while True:\n",
        "    if is_prime(number):\n",
        "      yield number\n",
        "    number +=1\n",
        "\n",
        "meu_gerador = get_primes(10):\n",
        "print(next(meu_gerador))\n",
        "print(next(meu_gerador))\n",
        "print(next(meu_gerador))\n"
      ],
      "execution_count": 3,
      "outputs": [
        {
          "output_type": "error",
          "ename": "SyntaxError",
          "evalue": "ignored",
          "traceback": [
            "\u001b[0;36m  File \u001b[0;32m\"<ipython-input-3-29b8d9cfc791>\"\u001b[0;36m, line \u001b[0;32m30\u001b[0m\n\u001b[0;31m    meu_gerador = get_primes(10):\u001b[0m\n\u001b[0m                                ^\u001b[0m\n\u001b[0;31mSyntaxError\u001b[0m\u001b[0;31m:\u001b[0m invalid syntax\n"
          ]
        }
      ]
    },
    {
      "cell_type": "code",
      "metadata": {
        "id": "B_GA4DqPbYmU"
      },
      "source": [
        "def get"
      ],
      "execution_count": null,
      "outputs": []
    },
    {
      "cell_type": "code",
      "metadata": {
        "id": "ZqbQkvEkQPra"
      },
      "source": [
        "'''\n",
        "Decorator - é uma função que recebe outra função como parâmetro, gera uma nova função que adiciona algumas funcionalidades à função original e a retorna essa nova função.\n",
        "'''\n",
        "\n",
        "'''\n",
        "def modificar(funcao):\n",
        "\tdef subtrair(a, b):\n",
        "\t\treturn a - b\n",
        "\treturn subtrair\n",
        "\n",
        "@modificar\t\n",
        "def somar(a, b):\n",
        "\treturn a + b\n",
        "\n",
        "print(somar(2, 3))\n",
        "'''\n",
        "\n",
        "'''\n",
        "def modificar(funcao):\n",
        "\tdef somar_pares(a, b):\n",
        "\t\tif a % 2 == 0 or b % 2 == 0:\n",
        "\t\t\treturn a + b\n",
        "\t\treturn a - b\n",
        "\treturn somar_pares\n",
        "\n",
        "@modificar\t\n",
        "def somar(a, b):\n",
        "\treturn a + b\n",
        "\n",
        "print(somar(11, 1))\n",
        "'''\n",
        "\n",
        "def meu_decorador(funcao):\n",
        "\tdef imprime_algo():\n",
        "\t\tprint('eu nao sei somar')\n",
        "\treturn imprime_algo\n",
        "\n",
        "@meu_decorador\n",
        "def imprime():\n",
        "\tprint('eu sei somar')\n",
        "\n",
        "#imprime = meu_decorador(imprime)\n",
        "imprime()"
      ],
      "execution_count": null,
      "outputs": []
    }
  ]
}