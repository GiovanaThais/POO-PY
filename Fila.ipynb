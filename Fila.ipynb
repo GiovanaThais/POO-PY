{
  "nbformat": 4,
  "nbformat_minor": 0,
  "metadata": {
    "colab": {
      "name": "Fila.ipynb",
      "provenance": [],
      "authorship_tag": "ABX9TyOBGJr/ZSo7T4m1VIEL9hRw",
      "include_colab_link": true
    },
    "kernelspec": {
      "name": "python3",
      "display_name": "Python 3"
    }
  },
  "cells": [
    {
      "cell_type": "markdown",
      "metadata": {
        "id": "view-in-github",
        "colab_type": "text"
      },
      "source": [
        "<a href=\"https://colab.research.google.com/github/GiovanaThais/POO-PY/blob/main/Fila.ipynb\" target=\"_parent\"><img src=\"https://colab.research.google.com/assets/colab-badge.svg\" alt=\"Open In Colab\"/></a>"
      ]
    },
    {
      "cell_type": "code",
      "metadata": {
        "colab": {
          "base_uri": "https://localhost:8080/"
        },
        "id": "bUiQkaxvslBk",
        "outputId": "e35a51c7-e47f-4ee9-9511-e2e50b906ce9"
      },
      "source": [
        "from collections import deque\n",
        "fila = deque (maxlen = 4) #criando uma fila de tamanho maximo = 4 \n",
        "fila.append(1) #adicionando valores a lista\n",
        "fila.append(2)\n",
        "fila.append(3)\n",
        "fila.append(4)\n",
        "fila.append(5) #adicionando uma a mais para teste\n",
        "print(fila) #ao adicionar um a mais ele remove o elemento mais atigo (o 1 ) para botar outro na fila\n",
        "fila.appendleft(0) # adicionando a esquerda da fila\n",
        "print(fila) #ao adicionar elemento a esquerda ele tira o lugar do ultimo ,removendo o ultimo elemento \n",
        "fila.pop() #função pop remove elementos do final\n",
        "print(fila)\n",
        "fila.popleft() #remove da esquerda\n",
        "print(fila)"
      ],
      "execution_count": 4,
      "outputs": [
        {
          "output_type": "stream",
          "text": [
            "deque([2, 3, 4, 5], maxlen=4)\n",
            "deque([0, 2, 3, 4], maxlen=4)\n",
            "deque([0, 2, 3], maxlen=4)\n",
            "deque([2, 3], maxlen=4)\n"
          ],
          "name": "stdout"
        }
      ]
    },
    {
      "cell_type": "code",
      "metadata": {
        "colab": {
          "base_uri": "https://localhost:8080/"
        },
        "id": "84bSUrPp3cbC",
        "outputId": "09fc005a-da9b-45fe-f004-4afd879f4153"
      },
      "source": [
        "#FILA DE PRIORIDADE\n",
        "import heapq\n",
        "idades = [15,20,40,6,18,25,10]\n",
        "heapq.nsmallest(3,idades) #para acessar os 3 menores numeros da lista\n",
        "heapq.nsmallest(2,idades)\n",
        "heapq.nlargest(2,idades) #para acessar os 2 maiores numeros da lista]\n",
        "heapq.heapify(idades) #para ordenar do menor pra o maior \n",
        "print(idades)\n",
        "idades[0] #corresponde ao menor item da lista \n",
        "heapq.heappop(idades) #para remover o menor item da lista\n",
        "idades\n",
        "heapq.heappush(idades,8) #adicionando elemento na lista ordenada\n",
        "idades\n",
        "heapq.heappush(idades,55)\n",
        "idades"
      ],
      "execution_count": 12,
      "outputs": [
        {
          "output_type": "stream",
          "text": [
            "[6, 15, 10, 20, 18, 25, 40]\n"
          ],
          "name": "stdout"
        },
        {
          "output_type": "execute_result",
          "data": {
            "text/plain": [
              "[8, 15, 10, 20, 18, 40, 25, 55]"
            ]
          },
          "metadata": {
            "tags": []
          },
          "execution_count": 12
        }
      ]
    },
    {
      "cell_type": "code",
      "metadata": {
        "colab": {
          "base_uri": "https://localhost:8080/"
        },
        "id": "CCE8xNK_XdRW",
        "outputId": "41b354f9-cf49-4516-cfa2-1907516bb5ee"
      },
      "source": [
        "import heapq\n",
        "\n",
        "class PriorityQueue:\n",
        "\n",
        "\tdef __init__(self):\n",
        "\t\tself._queue = []\n",
        "\t\tself._index = 0\n",
        "\n",
        "\tdef push(self, item, priority):\n",
        "\t\theapq.heappush(self._queue, (-priority, self._index, item))\n",
        "\t\tself._index += 1\n",
        "\n",
        "\tdef pop(self):\n",
        "\t\treturn heapq.heappop(self._queue)[-1]\n",
        "\n",
        "class Person:\n",
        "\n",
        "\tdef __init__(self, name):\n",
        "\t\tself.name = name\n",
        "\n",
        "\tdef __repr__(self):\n",
        "\t\treturn self.name\n",
        "\n",
        "\n",
        "q = PriorityQueue()\n",
        "q.push(Person('Marcos'), 28)\n",
        "q.push(Person('Joao'), 30)\n",
        "q.push(Person('Maria'), 15)\n",
        "q.push(Person('Gabriel'), 40)\n",
        "\n",
        "print(q.pop())"
      ],
      "execution_count": 19,
      "outputs": [
        {
          "output_type": "stream",
          "text": [
            "Gabriel\n"
          ],
          "name": "stdout"
        }
      ]
    },
    {
      "cell_type": "code",
      "metadata": {
        "colab": {
          "base_uri": "https://localhost:8080/"
        },
        "id": "C0h2jLSwb2oU",
        "outputId": "5aef43e7-5fd3-4925-88bb-b295c57e76a9"
      },
      "source": [
        "class Pessoa:\n",
        "\n",
        "\tdef __init__(self, nome, idade):\n",
        "\t\tself.nome = nome\n",
        "\t\tself.idade = idade\n",
        "\n",
        "\tdef __repr__(self):\n",
        "\t\treturn self.nome\n",
        "\n",
        "\n",
        "def pelo_nome(pessoa):\n",
        "\treturn pessoa.nome\n",
        "\n",
        "def pela_idade(pessoa):\n",
        "\treturn pessoa.idade\n",
        "\n",
        "p1 = Pessoa('Marcos', 28)\n",
        "p2 = Pessoa('Joao', 30)\n",
        "p3 = Pessoa('Ana', 25)\n",
        "\n",
        "pessoas = [p1, p2, p3]\n",
        "\n",
        "print(sorted(pessoas, key = pelo_nome))\n",
        "print(sorted(pessoas, key = pela_idade, reverse=True))"
      ],
      "execution_count": 2,
      "outputs": [
        {
          "output_type": "stream",
          "text": [
            "[Ana, Joao, Marcos]\n",
            "[Joao, Marcos, Ana]\n"
          ],
          "name": "stdout"
        }
      ]
    },
    {
      "cell_type": "code",
      "metadata": {
        "colab": {
          "base_uri": "https://localhost:8080/"
        },
        "id": "Hd3Nm2Ke5_zO",
        "outputId": "db587616-69e8-4d28-cf8f-7f14ec2ef69f"
      },
      "source": [
        "lista = [10,5,9,4,2,1,6,0]\n",
        "sorted(lista)\n",
        "dicionario = {2:'b',1:'a',3:'c'}\n",
        "sorted(dicionario)"
      ],
      "execution_count": 4,
      "outputs": [
        {
          "output_type": "execute_result",
          "data": {
            "text/plain": [
              "[1, 2, 3]"
            ]
          },
          "metadata": {
            "tags": []
          },
          "execution_count": 4
        }
      ]
    },
    {
      "cell_type": "code",
      "metadata": {
        "colab": {
          "base_uri": "https://localhost:8080/"
        },
        "id": "RzanYrTZA41D",
        "outputId": "a41961e0-10ca-4a92-a4db-165eb19867e3"
      },
      "source": [
        "def pai(num):\n",
        "  \n",
        "\tdef filho1():\n",
        "\t\tprint('Oi, eu sou o filho1')\n",
        "\n",
        "\tdef filho2():\n",
        "\t\tprint('Oi, eu sou o filho2')\n",
        "\n",
        "\ttry:\n",
        "\t\tassert num == 20 #se valor atribuido a pai for 20 retorna o filho 1\n",
        "\t\treturn filho1\n",
        "\texcept AssertionError: #ao atribuir valor diferente de 20 retornado o filho 2\n",
        "\t\treturn filho2\n",
        "\n",
        "\n",
        "f1 = pai(10) #f1 aponta para filho 2\n",
        "f2 = pai(20) #f2 aponta para filho1\n",
        "\n",
        "f1()\n",
        "f2()"
      ],
      "execution_count": 5,
      "outputs": [
        {
          "output_type": "stream",
          "text": [
            "Oi, eu sou o filho2\n",
            "Oi, eu sou o filho1\n"
          ],
          "name": "stdout"
        }
      ]
    },
    {
      "cell_type": "code",
      "metadata": {
        "id": "RTXD2FhCLYeX"
      },
      "source": [
        "d = defaultdict(set)\n",
        "d['marcos'].add(20)\n",
        "d['marcos'].add(30)\n",
        "d['marcos']"
      ],
      "execution_count": null,
      "outputs": []
    },
    {
      "cell_type": "code",
      "metadata": {
        "colab": {
          "base_uri": "https://localhost:8080/"
        },
        "id": "BFfGIlljMJYo",
        "outputId": "4ed29725-babd-46ab-db53-ec9a4027ad94"
      },
      "source": [
        "#controlando ordem em um dicionario\n",
        "from collections import OrderedDict\n",
        "d = OrderedDict()\n",
        "d['python'] = 10\n",
        "d['java'] = 6\n",
        "d['php'] = 5\n",
        "d['c'] = 10\n",
        "d['ruby'] = 7\n",
        "for key in d :\n",
        "  print(key,d[key])\n",
        "  "
      ],
      "execution_count": 8,
      "outputs": [
        {
          "output_type": "stream",
          "text": [
            "python 10\n",
            "java 6\n",
            "php 5\n",
            "c 10\n",
            "ruby 7\n"
          ],
          "name": "stdout"
        }
      ]
    },
    {
      "cell_type": "code",
      "metadata": {
        "colab": {
          "base_uri": "https://localhost:8080/"
        },
        "id": "PvU7N1g9M5mF",
        "outputId": "84263aa6-b5ef-415f-a1f5-13d6ec0e4c82"
      },
      "source": [
        "#unindo listas \n",
        "c = {1,2,3}\n",
        "d = {3,4,5,6,7,8}\n",
        "print(c)\n",
        "print(d)\n",
        "print(type(c)) #para saber o tipo do obj\n",
        "c | d #unindo c e d\n",
        "#intersecção de uma lista com a outra\n",
        "c & d #elementos em comum nas duas listas \n",
        "c - d #elementos que tem em c e nao tem em d\n",
        "c ^ d #elementos que estao em c e d mas nao estao em ambos\n"
      ],
      "execution_count": 12,
      "outputs": [
        {
          "output_type": "stream",
          "text": [
            "{1, 2, 3}\n",
            "{3, 4, 5, 6, 7, 8}\n",
            "<class 'set'>\n"
          ],
          "name": "stdout"
        },
        {
          "output_type": "execute_result",
          "data": {
            "text/plain": [
              "{1, 2, 4, 5, 6, 7, 8}"
            ]
          },
          "metadata": {
            "tags": []
          },
          "execution_count": 12
        }
      ]
    }
  ]
}