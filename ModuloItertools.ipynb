{
  "nbformat": 4,
  "nbformat_minor": 0,
  "metadata": {
    "colab": {
      "name": "ModuloItertools.ipynb",
      "provenance": [],
      "authorship_tag": "ABX9TyN1XbAbbln5qCyabV4Zjq08",
      "include_colab_link": true
    },
    "kernelspec": {
      "name": "python3",
      "display_name": "Python 3"
    }
  },
  "cells": [
    {
      "cell_type": "markdown",
      "metadata": {
        "id": "view-in-github",
        "colab_type": "text"
      },
      "source": [
        "<a href=\"https://colab.research.google.com/github/GiovanaThais/POO-PY/blob/main/ModuloItertools.ipynb\" target=\"_parent\"><img src=\"https://colab.research.google.com/assets/colab-badge.svg\" alt=\"Open In Colab\"/></a>"
      ]
    },
    {
      "cell_type": "code",
      "metadata": {
        "colab": {
          "base_uri": "https://localhost:8080/"
        },
        "id": "Wi_ouQzunX_f",
        "outputId": "848d09d9-b88f-492b-9924-3735cc9c1a4a"
      },
      "source": [
        "import itertools\n",
        "#permutação\n",
        "for p in itertools.permutations([1,2,3]):\n",
        "  print(\"\".join(str(x) for x in p))"
      ],
      "execution_count": 2,
      "outputs": [
        {
          "output_type": "stream",
          "text": [
            "123\n",
            "132\n",
            "213\n",
            "231\n",
            "312\n",
            "321\n"
          ],
          "name": "stdout"
        }
      ]
    },
    {
      "cell_type": "code",
      "metadata": {
        "colab": {
          "base_uri": "https://localhost:8080/"
        },
        "id": "mhUNtY5DZOfw",
        "outputId": "943456f1-fe02-49ee-9728-ce9521f636db"
      },
      "source": [
        "import itertools\n",
        "lista1 = [1,2,3]\n",
        "lista2 = [4,5,6]\n",
        "comb = itertools.chain(lista1,lista2)\n",
        "comb\n",
        "list(comb) #vai juntar as duas listas "
      ],
      "execution_count": 4,
      "outputs": [
        {
          "output_type": "execute_result",
          "data": {
            "text/plain": [
              "[1, 2, 3, 4, 5, 6]"
            ]
          },
          "metadata": {
            "tags": []
          },
          "execution_count": 4
        }
      ]
    },
    {
      "cell_type": "code",
      "metadata": {
        "colab": {
          "base_uri": "https://localhost:8080/"
        },
        "id": "mKcttj-XaDE4",
        "outputId": "61bfcde5-b0c2-4db4-9cc8-1fe8351d25f9"
      },
      "source": [
        "#tuplas utiliazando função zip (para fazer combinação dos elementos)\n",
        "zip([1,2,3],[1,2])\n",
        "r = zip([1,2,3],[1,2])\n",
        "r\n",
        "list(r) #resulta em juntar os fatores iguais "
      ],
      "execution_count": 3,
      "outputs": [
        {
          "output_type": "execute_result",
          "data": {
            "text/plain": [
              "[(1, 1), (2, 2)]"
            ]
          },
          "metadata": {
            "tags": []
          },
          "execution_count": 3
        }
      ]
    },
    {
      "cell_type": "code",
      "metadata": {
        "colab": {
          "base_uri": "https://localhost:8080/"
        },
        "id": "6JNpnzJZe6rr",
        "outputId": "8ffcfb1d-32c3-41af-c295-4b09402bce12"
      },
      "source": [
        "#agrupar itens com base em uma chave \n",
        "from operator import  itemgetter\n",
        "from itertools import groupby\n",
        "exemplos = [('marcos',28),('maria',20),('marta',23),('pedro',19),('diego',30),('marcos',18)]\n",
        "exemplos.sort(key=itemgetter(0))\n",
        "exemplos"
      ],
      "execution_count": 6,
      "outputs": [
        {
          "output_type": "execute_result",
          "data": {
            "text/plain": [
              "[('diego', 30),\n",
              " ('marcos', 28),\n",
              " ('marcos', 18),\n",
              " ('maria', 20),\n",
              " ('marta', 23),\n",
              " ('pedro', 19)]"
            ]
          },
          "metadata": {
            "tags": []
          },
          "execution_count": 6
        }
      ]
    }
  ]
}