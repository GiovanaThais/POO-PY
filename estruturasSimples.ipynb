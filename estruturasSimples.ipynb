{
  "nbformat": 4,
  "nbformat_minor": 0,
  "metadata": {
    "colab": {
      "name": "estruturasSimples.ipynb",
      "provenance": [],
      "collapsed_sections": [],
      "authorship_tag": "ABX9TyN3XZR2XwuSm64FXxeq+TgV",
      "include_colab_link": true
    },
    "kernelspec": {
      "name": "python3",
      "display_name": "Python 3"
    }
  },
  "cells": [
    {
      "cell_type": "markdown",
      "metadata": {
        "id": "view-in-github",
        "colab_type": "text"
      },
      "source": [
        "<a href=\"https://colab.research.google.com/github/GiovanaThais/POO-PY/blob/main/estruturasSimples.ipynb\" target=\"_parent\"><img src=\"https://colab.research.google.com/assets/colab-badge.svg\" alt=\"Open In Colab\"/></a>"
      ]
    },
    {
      "cell_type": "code",
      "metadata": {
        "colab": {
          "base_uri": "https://localhost:8080/",
          "height": 52
        },
        "id": "0RzzgCkSnc5X",
        "outputId": "5c3b98e9-0d3e-4761-e97b-cadc122c24fd"
      },
      "source": [
        "from collections import namedtuple\n",
        "Estoque = namedtuple('estoque','bebidas')\n",
        "estoque = Estoque(20)\n",
        "print(estoque.bebidas)\n",
        "\n",
        "'''tupla = (1,'gio',1.69,'feminino')\n",
        "print('tupla imutavel contendo itens imutaveis',tupla)\n",
        "id,nome,tamanho,genero = tupla\n",
        "print(\"nome: \",nome)\n",
        "'''\n"
      ],
      "execution_count": null,
      "outputs": [
        {
          "output_type": "stream",
          "text": [
            "20\n"
          ],
          "name": "stdout"
        },
        {
          "output_type": "execute_result",
          "data": {
            "application/vnd.google.colaboratory.intrinsic+json": {
              "type": "string"
            },
            "text/plain": [
              "'tupla = (1,\\'gio\\',1.69,\\'feminino\\')\\nprint(\\'tupla imutavel contendo itens imutaveis\\',tupla)\\nid,nome,tamanho,genero = tupla\\nprint(\"nome: \",nome)\\n'"
            ]
          },
          "metadata": {
            "tags": []
          },
          "execution_count": 12
        }
      ]
    },
    {
      "cell_type": "code",
      "metadata": {
        "colab": {
          "base_uri": "https://localhost:8080/"
        },
        "id": "1LSv0V07IdFw",
        "outputId": "43d0945b-4c31-4ef7-9502-25f38bf4a0e2"
      },
      "source": [
        "d = dict()\n",
        "d['gigi']= 22\n",
        "d['pedro'] = 20 #d={'gigi':22,'pedro':20}\n",
        "print(d)\n",
        "print(d.get('gigi'))\n",
        "\n",
        "class MinhaClasse:\n",
        "  def __init__(self,valor):\n",
        "    self.valor = valor\n",
        "  \n"
      ],
      "execution_count": null,
      "outputs": [
        {
          "output_type": "stream",
          "text": [
            "{'gigi': 22, 'pedro': 20}\n",
            "22\n"
          ],
          "name": "stdout"
        }
      ]
    },
    {
      "cell_type": "code",
      "metadata": {
        "colab": {
          "base_uri": "https://localhost:8080/"
        },
        "id": "rPX_BlhbjmGm",
        "outputId": "20f4fbf9-3fdd-4f35-8cc0-389994df3391"
      },
      "source": [
        "def funcao(*args):\n",
        "  print(args)\n",
        "\n",
        "print(funcao(1,2,'ai'))"
      ],
      "execution_count": null,
      "outputs": [
        {
          "output_type": "stream",
          "text": [
            "(1, 2, 'ai')\n",
            "None\n"
          ],
          "name": "stdout"
        }
      ]
    },
    {
      "cell_type": "code",
      "metadata": {
        "colab": {
          "base_uri": "https://localhost:8080/"
        },
        "id": "QzDlTPDGzF4B",
        "outputId": "d5679cf7-5739-42f3-f582-f1f2ce9351b7"
      },
      "source": [
        "import json \n",
        "class Contatos:\n",
        "  def __init__(self,nome,sobrenome,telefone):\n",
        "    self.nome = nome\n",
        "    self.sobrenome = sobrenome\n",
        "    self.telefone = telefone \n",
        "\n",
        "  @property\n",
        "  def agenda(self):\n",
        "    return print(f'{self.nome} {self.sobrenome} {self.telefone}')\n",
        "\n",
        "c = Contatos('giovana','Bieber',123123123)\n",
        "print(json.dumps(c.__dict__))\n"
      ],
      "execution_count": null,
      "outputs": [
        {
          "output_type": "stream",
          "text": [
            "{\"nome\": \"giovana\", \"sobrenome\": \"Bieber\", \"telefone\": 123123123}\n"
          ],
          "name": "stdout"
        }
      ]
    },
    {
      "cell_type": "code",
      "metadata": {
        "colab": {
          "base_uri": "https://localhost:8080/",
          "height": 129
        },
        "id": "iiOiHjF6EbSH",
        "outputId": "322b33b3-5ac9-403e-ec20-0e9d4d8963f3"
      },
      "source": [
        "#fibonacci\n",
        "\n",
        "class Fibonacci:\n",
        "  def __init__(self,max):\n",
        "    self.max = max\n",
        "\n",
        "  def __iter__(self): #iterator\n",
        "    self.x, self.y = 1,1\n",
        "    return self\n",
        "\n",
        "  def __next__(self):\n",
        "    fib = self.x\n",
        "    if fib > self.max:\n",
        "      raise StopIteration  \n",
        "    self.x, self.y = self.y, self.x + self.y\n",
        "\t\treturn fib\n",
        "\n",
        "fib = Fibonacci(100)\n",
        "for i in fib:\n",
        "\tprint(i, end=' ')\n"
      ],
      "execution_count": null,
      "outputs": [
        {
          "output_type": "error",
          "ename": "TabError",
          "evalue": "ignored",
          "traceback": [
            "\u001b[0;36m  File \u001b[0;32m\"<ipython-input-2-43404e0e2020>\"\u001b[0;36m, line \u001b[0;32m16\u001b[0m\n\u001b[0;31m    return fib\u001b[0m\n\u001b[0m              ^\u001b[0m\n\u001b[0;31mTabError\u001b[0m\u001b[0;31m:\u001b[0m inconsistent use of tabs and spaces in indentation\n"
          ]
        }
      ]
    }
  ]
}