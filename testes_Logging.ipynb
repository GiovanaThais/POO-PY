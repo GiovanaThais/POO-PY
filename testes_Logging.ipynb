{
  "nbformat": 4,
  "nbformat_minor": 0,
  "metadata": {
    "colab": {
      "name": "testes1.ipynb",
      "provenance": [],
      "authorship_tag": "ABX9TyMALkYqDv4OXuWVcjoUYzWE",
      "include_colab_link": true
    },
    "kernelspec": {
      "name": "python3",
      "display_name": "Python 3"
    }
  },
  "cells": [
    {
      "cell_type": "markdown",
      "metadata": {
        "id": "view-in-github",
        "colab_type": "text"
      },
      "source": [
        "<a href=\"https://colab.research.google.com/github/GiovanaThais/POO-PY/blob/main/testes_Logging.ipynb\" target=\"_parent\"><img src=\"https://colab.research.google.com/assets/colab-badge.svg\" alt=\"Open In Colab\"/></a>"
      ]
    },
    {
      "cell_type": "code",
      "metadata": {
        "id": "U2eaZ93PYXZX"
      },
      "source": [
        "import aula \n",
        "import logging \n",
        "class Usuario:\n",
        "  def __init__(self,usuario,senha):\n",
        "    self.usuario = usuario \n",
        "    self.senha= senha\n",
        "    self.dic_user = {'1':'Thais','2':'julia','3':'Giovana','4':'Dário'}\n",
        "    format = '%(asctime)s - %(name)s - %(levelname)s - %(message)s'\n",
        "    logging.basicConfig(filename = \"usuario.log\",level = logging.DEBUG,filemode = 'w',\n",
        "                        format=format, datefmt=\"%d/%m/%Y %I:%M:%S %p\")\n",
        "    #logging para ajustar configurações basicas da saída\n",
        "    self.logger = logging.getLogger(__name__)\n",
        "\n",
        "    def alterar_senha(self,nova_senha):\n",
        "      self.senha = nova_senha\n",
        "      self.logger.info(\"Alterada a senha\") #logger do tipo info que serve para passar uma informação\n",
        "    def autentica(self,usuario,senha):\n",
        "      if self.usuario != usuario or self.senha != senha:\n",
        "        self.logger.warning(\"Tentativa de acesso invalida,usuario ou senhas invalidas \")\n",
        "        #logger que serve para indicar um alert\n",
        "        return False\n",
        "      return True\n",
        "    \n",
        "    def get_usuario_by_id(self,usuario_id):\n",
        "      user = self.dic_user.get(usuario_id,None)\n",
        "      if user is None:\n",
        "        self.logger.error(f\"Usuario id não existe: [0]-{usuario_id}\")#logger usada para uma mensagem de erro\n",
        "        return None\n",
        "      return user\n",
        "\n",
        "    def abrir_arq_usuario(self):\n",
        "      try:\n",
        "        open('/path/to/does/not/exist','rb')\n",
        "      except (SystemExist, keyboardInterrupt):\n",
        "        raise\n",
        "      except Exception as e:\n",
        "        self.logger.exception(\"Error: \") #logger usado ao indicar excessão\n",
        "\n",
        "    def algoritmo_complex(self,itens):\n",
        "      for i, itens in enumerate(itens):\n",
        "        self.logger.debug('{0} iterador , item = {1}'.format(i,item))#logger para controle debug\n",
        "if __name__ == '__main__':\n",
        "    user = Usuario(\"Thomas\", \"1234\")\n",
        "    user.alterar_senha(\"1255\")\n",
        "    user.autentica(\"Thomas\", \"324234\")\n",
        "    user.get_usuario_by_id(\"0\")\n",
        "    user.abrir_arquivo_usuario()\n",
        "    user.algoritmo_complex([1,2,3,4])\n",
        "    aula.execute()\n"
      ],
      "execution_count": null,
      "outputs": []
    },
    {
      "cell_type": "code",
      "metadata": {
        "id": "t--ADDshSSDA"
      },
      "source": [
        "import logging\n",
        "def execute():\n",
        "  format = '%(asctime)s - %(name)s - %(levelname)s - %(message)s'\n",
        "  logging.basicConfig(filename=\"hello.log\", \n",
        "                      level=logging.DEBUG, filemode=\"w\", format=format, datefmt=\"%d/%m/%Y %I:%M:%S %p\")\n",
        "  logger = logging.getLogger(__name__)\n",
        "  logger.info(\"mensagem informativa\")\n",
        "  logger.debug(\"mensagem de debug\")\n",
        "  logger.error(\"um erro aconteceu\")\n",
        "\n",
        "if __name__ == '__main__':\n",
        "\texecute()"
      ],
      "execution_count": 6,
      "outputs": []
    }
  ]
}